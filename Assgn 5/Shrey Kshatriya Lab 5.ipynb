{
 "cells": [
  {
   "cell_type": "markdown",
   "metadata": {},
   "source": [
    "# BIA 656 \n",
    "## Advance Data Analytics and Machine Learning\n",
    "## Assignment : Lab 5\n",
    "## Shrey Kshatriya"
   ]
  },
  {
   "cell_type": "markdown",
   "metadata": {},
   "source": [
    "# Part 1"
   ]
  },
  {
   "cell_type": "code",
   "execution_count": 62,
   "metadata": {},
   "outputs": [],
   "source": [
    "from sklearn import datasets, linear_model\n",
    "from sklearn.model_selection import train_test_split\n",
    "from matplotlib import pyplot as plt\n",
    "import pandas as pd"
   ]
  },
  {
   "cell_type": "markdown",
   "metadata": {},
   "source": [
    "#### Reading the data from the given csv file"
   ]
  },
  {
   "cell_type": "code",
   "execution_count": 63,
   "metadata": {},
   "outputs": [
    {
     "data": {
      "text/html": [
       "<div>\n",
       "<style scoped>\n",
       "    .dataframe tbody tr th:only-of-type {\n",
       "        vertical-align: middle;\n",
       "    }\n",
       "\n",
       "    .dataframe tbody tr th {\n",
       "        vertical-align: top;\n",
       "    }\n",
       "\n",
       "    .dataframe thead th {\n",
       "        text-align: right;\n",
       "    }\n",
       "</style>\n",
       "<table border=\"1\" class=\"dataframe\">\n",
       "  <thead>\n",
       "    <tr style=\"text-align: right;\">\n",
       "      <th></th>\n",
       "      <th>serious_dlqin2yrs</th>\n",
       "      <th>revolving_utilization_of_unsecured_lines</th>\n",
       "      <th>age</th>\n",
       "      <th>number_of_time30-59_days_past_due_not_worse</th>\n",
       "      <th>debt_ratio</th>\n",
       "      <th>monthly_income</th>\n",
       "      <th>number_of_open_credit_lines_and_loans</th>\n",
       "      <th>number_of_times90_days_late</th>\n",
       "      <th>number_real_estate_loans_or_lines</th>\n",
       "      <th>number_of_time60-89_days_past_due_not_worse</th>\n",
       "      <th>number_of_dependents</th>\n",
       "    </tr>\n",
       "  </thead>\n",
       "  <tbody>\n",
       "    <tr>\n",
       "      <th>0</th>\n",
       "      <td>1</td>\n",
       "      <td>0.766127</td>\n",
       "      <td>45</td>\n",
       "      <td>2</td>\n",
       "      <td>0.802982</td>\n",
       "      <td>9120.0</td>\n",
       "      <td>13</td>\n",
       "      <td>0</td>\n",
       "      <td>6</td>\n",
       "      <td>0</td>\n",
       "      <td>2.0</td>\n",
       "    </tr>\n",
       "    <tr>\n",
       "      <th>1</th>\n",
       "      <td>0</td>\n",
       "      <td>0.957151</td>\n",
       "      <td>40</td>\n",
       "      <td>0</td>\n",
       "      <td>0.121876</td>\n",
       "      <td>2600.0</td>\n",
       "      <td>4</td>\n",
       "      <td>0</td>\n",
       "      <td>0</td>\n",
       "      <td>0</td>\n",
       "      <td>1.0</td>\n",
       "    </tr>\n",
       "    <tr>\n",
       "      <th>2</th>\n",
       "      <td>0</td>\n",
       "      <td>0.658180</td>\n",
       "      <td>38</td>\n",
       "      <td>1</td>\n",
       "      <td>0.085113</td>\n",
       "      <td>3042.0</td>\n",
       "      <td>2</td>\n",
       "      <td>1</td>\n",
       "      <td>0</td>\n",
       "      <td>0</td>\n",
       "      <td>0.0</td>\n",
       "    </tr>\n",
       "    <tr>\n",
       "      <th>3</th>\n",
       "      <td>0</td>\n",
       "      <td>0.233810</td>\n",
       "      <td>30</td>\n",
       "      <td>0</td>\n",
       "      <td>0.036050</td>\n",
       "      <td>3300.0</td>\n",
       "      <td>5</td>\n",
       "      <td>0</td>\n",
       "      <td>0</td>\n",
       "      <td>0</td>\n",
       "      <td>0.0</td>\n",
       "    </tr>\n",
       "    <tr>\n",
       "      <th>4</th>\n",
       "      <td>0</td>\n",
       "      <td>0.907239</td>\n",
       "      <td>49</td>\n",
       "      <td>1</td>\n",
       "      <td>0.024926</td>\n",
       "      <td>63588.0</td>\n",
       "      <td>7</td>\n",
       "      <td>0</td>\n",
       "      <td>1</td>\n",
       "      <td>0</td>\n",
       "      <td>0.0</td>\n",
       "    </tr>\n",
       "  </tbody>\n",
       "</table>\n",
       "</div>"
      ],
      "text/plain": [
       "   serious_dlqin2yrs  revolving_utilization_of_unsecured_lines  age  \\\n",
       "0                  1                                  0.766127   45   \n",
       "1                  0                                  0.957151   40   \n",
       "2                  0                                  0.658180   38   \n",
       "3                  0                                  0.233810   30   \n",
       "4                  0                                  0.907239   49   \n",
       "\n",
       "   number_of_time30-59_days_past_due_not_worse  debt_ratio  monthly_income  \\\n",
       "0                                            2    0.802982          9120.0   \n",
       "1                                            0    0.121876          2600.0   \n",
       "2                                            1    0.085113          3042.0   \n",
       "3                                            0    0.036050          3300.0   \n",
       "4                                            1    0.024926         63588.0   \n",
       "\n",
       "   number_of_open_credit_lines_and_loans  number_of_times90_days_late  \\\n",
       "0                                     13                            0   \n",
       "1                                      4                            0   \n",
       "2                                      2                            1   \n",
       "3                                      5                            0   \n",
       "4                                      7                            0   \n",
       "\n",
       "   number_real_estate_loans_or_lines  \\\n",
       "0                                  6   \n",
       "1                                  0   \n",
       "2                                  0   \n",
       "3                                  0   \n",
       "4                                  1   \n",
       "\n",
       "   number_of_time60-89_days_past_due_not_worse  number_of_dependents  \n",
       "0                                            0                   2.0  \n",
       "1                                            0                   1.0  \n",
       "2                                            0                   0.0  \n",
       "3                                            0                   0.0  \n",
       "4                                            0                   0.0  "
      ]
     },
     "execution_count": 63,
     "metadata": {},
     "output_type": "execute_result"
    }
   ],
   "source": [
    "df = pd.read_csv('credit-data-post-import.csv')\n",
    "df.head()"
   ]
  },
  {
   "cell_type": "markdown",
   "metadata": {},
   "source": [
    "#### Splitting the data into training and testing by splitting into features and target"
   ]
  },
  {
   "cell_type": "code",
   "execution_count": 64,
   "metadata": {},
   "outputs": [
    {
     "data": {
      "text/html": [
       "<div>\n",
       "<style scoped>\n",
       "    .dataframe tbody tr th:only-of-type {\n",
       "        vertical-align: middle;\n",
       "    }\n",
       "\n",
       "    .dataframe tbody tr th {\n",
       "        vertical-align: top;\n",
       "    }\n",
       "\n",
       "    .dataframe thead th {\n",
       "        text-align: right;\n",
       "    }\n",
       "</style>\n",
       "<table border=\"1\" class=\"dataframe\">\n",
       "  <thead>\n",
       "    <tr style=\"text-align: right;\">\n",
       "      <th></th>\n",
       "      <th>serious_dlqin2yrs</th>\n",
       "      <th>revolving_utilization_of_unsecured_lines</th>\n",
       "      <th>age</th>\n",
       "      <th>number_of_time30-59_days_past_due_not_worse</th>\n",
       "      <th>debt_ratio</th>\n",
       "      <th>monthly_income</th>\n",
       "      <th>number_of_open_credit_lines_and_loans</th>\n",
       "      <th>number_of_times90_days_late</th>\n",
       "      <th>number_real_estate_loans_or_lines</th>\n",
       "      <th>number_of_time60-89_days_past_due_not_worse</th>\n",
       "      <th>number_of_dependents</th>\n",
       "    </tr>\n",
       "  </thead>\n",
       "  <tbody>\n",
       "    <tr>\n",
       "      <th>54676</th>\n",
       "      <td>0</td>\n",
       "      <td>1.000000</td>\n",
       "      <td>58</td>\n",
       "      <td>0</td>\n",
       "      <td>0.542104</td>\n",
       "      <td>14000.0</td>\n",
       "      <td>9</td>\n",
       "      <td>0</td>\n",
       "      <td>2</td>\n",
       "      <td>0</td>\n",
       "      <td>2.0</td>\n",
       "    </tr>\n",
       "    <tr>\n",
       "      <th>53786</th>\n",
       "      <td>0</td>\n",
       "      <td>0.031125</td>\n",
       "      <td>70</td>\n",
       "      <td>0</td>\n",
       "      <td>61.000000</td>\n",
       "      <td>NaN</td>\n",
       "      <td>11</td>\n",
       "      <td>0</td>\n",
       "      <td>0</td>\n",
       "      <td>0</td>\n",
       "      <td>0.0</td>\n",
       "    </tr>\n",
       "    <tr>\n",
       "      <th>666</th>\n",
       "      <td>0</td>\n",
       "      <td>0.020704</td>\n",
       "      <td>47</td>\n",
       "      <td>0</td>\n",
       "      <td>0.645104</td>\n",
       "      <td>3400.0</td>\n",
       "      <td>6</td>\n",
       "      <td>0</td>\n",
       "      <td>1</td>\n",
       "      <td>0</td>\n",
       "      <td>2.0</td>\n",
       "    </tr>\n",
       "    <tr>\n",
       "      <th>76892</th>\n",
       "      <td>0</td>\n",
       "      <td>1.000000</td>\n",
       "      <td>28</td>\n",
       "      <td>0</td>\n",
       "      <td>0.193903</td>\n",
       "      <td>2000.0</td>\n",
       "      <td>2</td>\n",
       "      <td>0</td>\n",
       "      <td>0</td>\n",
       "      <td>1</td>\n",
       "      <td>0.0</td>\n",
       "    </tr>\n",
       "    <tr>\n",
       "      <th>56402</th>\n",
       "      <td>0</td>\n",
       "      <td>0.062678</td>\n",
       "      <td>33</td>\n",
       "      <td>0</td>\n",
       "      <td>0.009892</td>\n",
       "      <td>3335.0</td>\n",
       "      <td>3</td>\n",
       "      <td>0</td>\n",
       "      <td>0</td>\n",
       "      <td>0</td>\n",
       "      <td>0.0</td>\n",
       "    </tr>\n",
       "  </tbody>\n",
       "</table>\n",
       "</div>"
      ],
      "text/plain": [
       "       serious_dlqin2yrs  revolving_utilization_of_unsecured_lines  age  \\\n",
       "54676                  0                                  1.000000   58   \n",
       "53786                  0                                  0.031125   70   \n",
       "666                    0                                  0.020704   47   \n",
       "76892                  0                                  1.000000   28   \n",
       "56402                  0                                  0.062678   33   \n",
       "\n",
       "       number_of_time30-59_days_past_due_not_worse  debt_ratio  \\\n",
       "54676                                            0    0.542104   \n",
       "53786                                            0   61.000000   \n",
       "666                                              0    0.645104   \n",
       "76892                                            0    0.193903   \n",
       "56402                                            0    0.009892   \n",
       "\n",
       "       monthly_income  number_of_open_credit_lines_and_loans  \\\n",
       "54676         14000.0                                      9   \n",
       "53786             NaN                                     11   \n",
       "666            3400.0                                      6   \n",
       "76892          2000.0                                      2   \n",
       "56402          3335.0                                      3   \n",
       "\n",
       "       number_of_times90_days_late  number_real_estate_loans_or_lines  \\\n",
       "54676                            0                                  2   \n",
       "53786                            0                                  0   \n",
       "666                              0                                  1   \n",
       "76892                            0                                  0   \n",
       "56402                            0                                  0   \n",
       "\n",
       "       number_of_time60-89_days_past_due_not_worse  number_of_dependents  \n",
       "54676                                            0                   2.0  \n",
       "53786                                            0                   0.0  \n",
       "666                                              0                   2.0  \n",
       "76892                                            1                   0.0  \n",
       "56402                                            0                   0.0  "
      ]
     },
     "execution_count": 64,
     "metadata": {},
     "output_type": "execute_result"
    }
   ],
   "source": [
    "train, test = train_test_split(df, test_size=0.25)\n",
    "train.head()"
   ]
  },
  {
   "cell_type": "markdown",
   "metadata": {},
   "source": [
    "#### Since only the y_train (monthly_income) has null values, we split the null values and nont null values"
   ]
  },
  {
   "cell_type": "code",
   "execution_count": 65,
   "metadata": {},
   "outputs": [
    {
     "data": {
      "text/html": [
       "<div>\n",
       "<style scoped>\n",
       "    .dataframe tbody tr th:only-of-type {\n",
       "        vertical-align: middle;\n",
       "    }\n",
       "\n",
       "    .dataframe tbody tr th {\n",
       "        vertical-align: top;\n",
       "    }\n",
       "\n",
       "    .dataframe thead th {\n",
       "        text-align: right;\n",
       "    }\n",
       "</style>\n",
       "<table border=\"1\" class=\"dataframe\">\n",
       "  <thead>\n",
       "    <tr style=\"text-align: right;\">\n",
       "      <th></th>\n",
       "      <th>serious_dlqin2yrs</th>\n",
       "      <th>revolving_utilization_of_unsecured_lines</th>\n",
       "      <th>age</th>\n",
       "      <th>number_of_time30-59_days_past_due_not_worse</th>\n",
       "      <th>debt_ratio</th>\n",
       "      <th>monthly_income</th>\n",
       "      <th>number_of_open_credit_lines_and_loans</th>\n",
       "      <th>number_of_times90_days_late</th>\n",
       "      <th>number_real_estate_loans_or_lines</th>\n",
       "      <th>number_of_time60-89_days_past_due_not_worse</th>\n",
       "      <th>number_of_dependents</th>\n",
       "    </tr>\n",
       "  </thead>\n",
       "  <tbody>\n",
       "    <tr>\n",
       "      <th>53786</th>\n",
       "      <td>0</td>\n",
       "      <td>0.031125</td>\n",
       "      <td>70</td>\n",
       "      <td>0</td>\n",
       "      <td>61.0</td>\n",
       "      <td>NaN</td>\n",
       "      <td>11</td>\n",
       "      <td>0</td>\n",
       "      <td>0</td>\n",
       "      <td>0</td>\n",
       "      <td>0.0</td>\n",
       "    </tr>\n",
       "    <tr>\n",
       "      <th>68885</th>\n",
       "      <td>0</td>\n",
       "      <td>0.034433</td>\n",
       "      <td>66</td>\n",
       "      <td>0</td>\n",
       "      <td>1243.0</td>\n",
       "      <td>NaN</td>\n",
       "      <td>6</td>\n",
       "      <td>0</td>\n",
       "      <td>1</td>\n",
       "      <td>0</td>\n",
       "      <td>0.0</td>\n",
       "    </tr>\n",
       "    <tr>\n",
       "      <th>6236</th>\n",
       "      <td>0</td>\n",
       "      <td>0.000000</td>\n",
       "      <td>43</td>\n",
       "      <td>1</td>\n",
       "      <td>289.0</td>\n",
       "      <td>NaN</td>\n",
       "      <td>10</td>\n",
       "      <td>0</td>\n",
       "      <td>0</td>\n",
       "      <td>0</td>\n",
       "      <td>0.0</td>\n",
       "    </tr>\n",
       "    <tr>\n",
       "      <th>88594</th>\n",
       "      <td>0</td>\n",
       "      <td>0.016899</td>\n",
       "      <td>51</td>\n",
       "      <td>0</td>\n",
       "      <td>10.0</td>\n",
       "      <td>NaN</td>\n",
       "      <td>2</td>\n",
       "      <td>0</td>\n",
       "      <td>0</td>\n",
       "      <td>0</td>\n",
       "      <td>0.0</td>\n",
       "    </tr>\n",
       "    <tr>\n",
       "      <th>109734</th>\n",
       "      <td>0</td>\n",
       "      <td>0.674898</td>\n",
       "      <td>59</td>\n",
       "      <td>0</td>\n",
       "      <td>6239.0</td>\n",
       "      <td>NaN</td>\n",
       "      <td>12</td>\n",
       "      <td>0</td>\n",
       "      <td>2</td>\n",
       "      <td>0</td>\n",
       "      <td>1.0</td>\n",
       "    </tr>\n",
       "  </tbody>\n",
       "</table>\n",
       "</div>"
      ],
      "text/plain": [
       "        serious_dlqin2yrs  revolving_utilization_of_unsecured_lines  age  \\\n",
       "53786                   0                                  0.031125   70   \n",
       "68885                   0                                  0.034433   66   \n",
       "6236                    0                                  0.000000   43   \n",
       "88594                   0                                  0.016899   51   \n",
       "109734                  0                                  0.674898   59   \n",
       "\n",
       "        number_of_time30-59_days_past_due_not_worse  debt_ratio  \\\n",
       "53786                                             0        61.0   \n",
       "68885                                             0      1243.0   \n",
       "6236                                              1       289.0   \n",
       "88594                                             0        10.0   \n",
       "109734                                            0      6239.0   \n",
       "\n",
       "        monthly_income  number_of_open_credit_lines_and_loans  \\\n",
       "53786              NaN                                     11   \n",
       "68885              NaN                                      6   \n",
       "6236               NaN                                     10   \n",
       "88594              NaN                                      2   \n",
       "109734             NaN                                     12   \n",
       "\n",
       "        number_of_times90_days_late  number_real_estate_loans_or_lines  \\\n",
       "53786                             0                                  0   \n",
       "68885                             0                                  1   \n",
       "6236                              0                                  0   \n",
       "88594                             0                                  0   \n",
       "109734                            0                                  2   \n",
       "\n",
       "        number_of_time60-89_days_past_due_not_worse  number_of_dependents  \n",
       "53786                                             0                   0.0  \n",
       "68885                                             0                   0.0  \n",
       "6236                                              0                   0.0  \n",
       "88594                                             0                   0.0  \n",
       "109734                                            0                   1.0  "
      ]
     },
     "execution_count": 65,
     "metadata": {},
     "output_type": "execute_result"
    }
   ],
   "source": [
    "n = train[train['monthly_income'].isnull()]\n",
    "n.head()"
   ]
  },
  {
   "cell_type": "code",
   "execution_count": 66,
   "metadata": {},
   "outputs": [
    {
     "data": {
      "text/html": [
       "<div>\n",
       "<style scoped>\n",
       "    .dataframe tbody tr th:only-of-type {\n",
       "        vertical-align: middle;\n",
       "    }\n",
       "\n",
       "    .dataframe tbody tr th {\n",
       "        vertical-align: top;\n",
       "    }\n",
       "\n",
       "    .dataframe thead th {\n",
       "        text-align: right;\n",
       "    }\n",
       "</style>\n",
       "<table border=\"1\" class=\"dataframe\">\n",
       "  <thead>\n",
       "    <tr style=\"text-align: right;\">\n",
       "      <th></th>\n",
       "      <th>serious_dlqin2yrs</th>\n",
       "      <th>revolving_utilization_of_unsecured_lines</th>\n",
       "      <th>age</th>\n",
       "      <th>number_of_time30-59_days_past_due_not_worse</th>\n",
       "      <th>debt_ratio</th>\n",
       "      <th>monthly_income</th>\n",
       "      <th>number_of_open_credit_lines_and_loans</th>\n",
       "      <th>number_of_times90_days_late</th>\n",
       "      <th>number_real_estate_loans_or_lines</th>\n",
       "      <th>number_of_time60-89_days_past_due_not_worse</th>\n",
       "      <th>number_of_dependents</th>\n",
       "    </tr>\n",
       "  </thead>\n",
       "  <tbody>\n",
       "    <tr>\n",
       "      <th>54676</th>\n",
       "      <td>0</td>\n",
       "      <td>1.000000</td>\n",
       "      <td>58</td>\n",
       "      <td>0</td>\n",
       "      <td>0.542104</td>\n",
       "      <td>14000.0</td>\n",
       "      <td>9</td>\n",
       "      <td>0</td>\n",
       "      <td>2</td>\n",
       "      <td>0</td>\n",
       "      <td>2.0</td>\n",
       "    </tr>\n",
       "    <tr>\n",
       "      <th>666</th>\n",
       "      <td>0</td>\n",
       "      <td>0.020704</td>\n",
       "      <td>47</td>\n",
       "      <td>0</td>\n",
       "      <td>0.645104</td>\n",
       "      <td>3400.0</td>\n",
       "      <td>6</td>\n",
       "      <td>0</td>\n",
       "      <td>1</td>\n",
       "      <td>0</td>\n",
       "      <td>2.0</td>\n",
       "    </tr>\n",
       "    <tr>\n",
       "      <th>76892</th>\n",
       "      <td>0</td>\n",
       "      <td>1.000000</td>\n",
       "      <td>28</td>\n",
       "      <td>0</td>\n",
       "      <td>0.193903</td>\n",
       "      <td>2000.0</td>\n",
       "      <td>2</td>\n",
       "      <td>0</td>\n",
       "      <td>0</td>\n",
       "      <td>1</td>\n",
       "      <td>0.0</td>\n",
       "    </tr>\n",
       "    <tr>\n",
       "      <th>56402</th>\n",
       "      <td>0</td>\n",
       "      <td>0.062678</td>\n",
       "      <td>33</td>\n",
       "      <td>0</td>\n",
       "      <td>0.009892</td>\n",
       "      <td>3335.0</td>\n",
       "      <td>3</td>\n",
       "      <td>0</td>\n",
       "      <td>0</td>\n",
       "      <td>0</td>\n",
       "      <td>0.0</td>\n",
       "    </tr>\n",
       "    <tr>\n",
       "      <th>102838</th>\n",
       "      <td>1</td>\n",
       "      <td>0.502096</td>\n",
       "      <td>68</td>\n",
       "      <td>0</td>\n",
       "      <td>0.387225</td>\n",
       "      <td>2770.0</td>\n",
       "      <td>10</td>\n",
       "      <td>0</td>\n",
       "      <td>1</td>\n",
       "      <td>0</td>\n",
       "      <td>0.0</td>\n",
       "    </tr>\n",
       "  </tbody>\n",
       "</table>\n",
       "</div>"
      ],
      "text/plain": [
       "        serious_dlqin2yrs  revolving_utilization_of_unsecured_lines  age  \\\n",
       "54676                   0                                  1.000000   58   \n",
       "666                     0                                  0.020704   47   \n",
       "76892                   0                                  1.000000   28   \n",
       "56402                   0                                  0.062678   33   \n",
       "102838                  1                                  0.502096   68   \n",
       "\n",
       "        number_of_time30-59_days_past_due_not_worse  debt_ratio  \\\n",
       "54676                                             0    0.542104   \n",
       "666                                               0    0.645104   \n",
       "76892                                             0    0.193903   \n",
       "56402                                             0    0.009892   \n",
       "102838                                            0    0.387225   \n",
       "\n",
       "        monthly_income  number_of_open_credit_lines_and_loans  \\\n",
       "54676          14000.0                                      9   \n",
       "666             3400.0                                      6   \n",
       "76892           2000.0                                      2   \n",
       "56402           3335.0                                      3   \n",
       "102838          2770.0                                     10   \n",
       "\n",
       "        number_of_times90_days_late  number_real_estate_loans_or_lines  \\\n",
       "54676                             0                                  2   \n",
       "666                               0                                  1   \n",
       "76892                             0                                  0   \n",
       "56402                             0                                  0   \n",
       "102838                            0                                  1   \n",
       "\n",
       "        number_of_time60-89_days_past_due_not_worse  number_of_dependents  \n",
       "54676                                             0                   2.0  \n",
       "666                                               0                   2.0  \n",
       "76892                                             1                   0.0  \n",
       "56402                                             0                   0.0  \n",
       "102838                                            0                   0.0  "
      ]
     },
     "execution_count": 66,
     "metadata": {},
     "output_type": "execute_result"
    }
   ],
   "source": [
    "nn = train[train['monthly_income'].notnull()]\n",
    "nn.head()"
   ]
  },
  {
   "cell_type": "markdown",
   "metadata": {},
   "source": [
    "#### We are using regression algorithms to fit and predict the missing values\n",
    "#### Here we are using Lasso Regression to fir the model based on variables 'number_real_estate_loans_or_lines' and 'number_of_open_credit_lines_and_loans' as independent variables and 'monthly_income' as target/dependent variable"
   ]
  },
  {
   "cell_type": "code",
   "execution_count": 67,
   "metadata": {},
   "outputs": [
    {
     "data": {
      "text/plain": [
       "Lasso(alpha=0.1, copy_X=True, fit_intercept=True, max_iter=1000,\n",
       "      normalize=False, positive=False, precompute=False, random_state=None,\n",
       "      selection='cyclic', tol=0.0001, warm_start=False)"
      ]
     },
     "execution_count": 67,
     "metadata": {},
     "output_type": "execute_result"
    }
   ],
   "source": [
    "from sklearn import linear_model\n",
    "X = nn[['number_real_estate_loans_or_lines', 'number_of_open_credit_lines_and_loans']]\n",
    "y = nn['monthly_income']\n",
    "clf = linear_model.Lasso(alpha=0.1)\n",
    "reg_mod = clf.fit(X,y)\n",
    "clf.fit(X,y)"
   ]
  },
  {
   "cell_type": "code",
   "execution_count": 68,
   "metadata": {},
   "outputs": [
    {
     "data": {
      "text/plain": [
       "array([5537.74954645, 6261.57515389, 5413.3291646 , ..., 4293.54572799,\n",
       "       6137.15477205, 4169.12534614])"
      ]
     },
     "execution_count": 68,
     "metadata": {},
     "output_type": "execute_result"
    }
   ],
   "source": [
    "predictor = n.drop(['monthly_income'], axis=1)\n",
    "predictor = predictor[['number_real_estate_loans_or_lines', 'number_of_open_credit_lines_and_loans']]\n",
    "preds = reg_mod.predict(predictor)\n",
    "preds"
   ]
  },
  {
   "cell_type": "markdown",
   "metadata": {},
   "source": [
    "#### Now that we have predicted values, we can impute these values in the null data"
   ]
  },
  {
   "cell_type": "code",
   "execution_count": 69,
   "metadata": {},
   "outputs": [
    {
     "name": "stderr",
     "output_type": "stream",
     "text": [
      "C:\\Users\\shrey\\Anaconda3\\lib\\site-packages\\ipykernel_launcher.py:1: SettingWithCopyWarning: \n",
      "A value is trying to be set on a copy of a slice from a DataFrame.\n",
      "Try using .loc[row_indexer,col_indexer] = value instead\n",
      "\n",
      "See the caveats in the documentation: https://pandas.pydata.org/pandas-docs/stable/user_guide/indexing.html#returning-a-view-versus-a-copy\n",
      "  \"\"\"Entry point for launching an IPython kernel.\n"
     ]
    },
    {
     "data": {
      "text/html": [
       "<div>\n",
       "<style scoped>\n",
       "    .dataframe tbody tr th:only-of-type {\n",
       "        vertical-align: middle;\n",
       "    }\n",
       "\n",
       "    .dataframe tbody tr th {\n",
       "        vertical-align: top;\n",
       "    }\n",
       "\n",
       "    .dataframe thead th {\n",
       "        text-align: right;\n",
       "    }\n",
       "</style>\n",
       "<table border=\"1\" class=\"dataframe\">\n",
       "  <thead>\n",
       "    <tr style=\"text-align: right;\">\n",
       "      <th></th>\n",
       "      <th>serious_dlqin2yrs</th>\n",
       "      <th>revolving_utilization_of_unsecured_lines</th>\n",
       "      <th>age</th>\n",
       "      <th>number_of_time30-59_days_past_due_not_worse</th>\n",
       "      <th>debt_ratio</th>\n",
       "      <th>monthly_income</th>\n",
       "      <th>number_of_open_credit_lines_and_loans</th>\n",
       "      <th>number_of_times90_days_late</th>\n",
       "      <th>number_real_estate_loans_or_lines</th>\n",
       "      <th>number_of_time60-89_days_past_due_not_worse</th>\n",
       "      <th>number_of_dependents</th>\n",
       "    </tr>\n",
       "  </thead>\n",
       "  <tbody>\n",
       "    <tr>\n",
       "      <th>53786</th>\n",
       "      <td>0</td>\n",
       "      <td>0.031125</td>\n",
       "      <td>70</td>\n",
       "      <td>0</td>\n",
       "      <td>61.0</td>\n",
       "      <td>5537.749546</td>\n",
       "      <td>11</td>\n",
       "      <td>0</td>\n",
       "      <td>0</td>\n",
       "      <td>0</td>\n",
       "      <td>0.0</td>\n",
       "    </tr>\n",
       "    <tr>\n",
       "      <th>68885</th>\n",
       "      <td>0</td>\n",
       "      <td>0.034433</td>\n",
       "      <td>66</td>\n",
       "      <td>0</td>\n",
       "      <td>1243.0</td>\n",
       "      <td>6261.575154</td>\n",
       "      <td>6</td>\n",
       "      <td>0</td>\n",
       "      <td>1</td>\n",
       "      <td>0</td>\n",
       "      <td>0.0</td>\n",
       "    </tr>\n",
       "    <tr>\n",
       "      <th>6236</th>\n",
       "      <td>0</td>\n",
       "      <td>0.000000</td>\n",
       "      <td>43</td>\n",
       "      <td>1</td>\n",
       "      <td>289.0</td>\n",
       "      <td>5413.329165</td>\n",
       "      <td>10</td>\n",
       "      <td>0</td>\n",
       "      <td>0</td>\n",
       "      <td>0</td>\n",
       "      <td>0.0</td>\n",
       "    </tr>\n",
       "    <tr>\n",
       "      <th>88594</th>\n",
       "      <td>0</td>\n",
       "      <td>0.016899</td>\n",
       "      <td>51</td>\n",
       "      <td>0</td>\n",
       "      <td>10.0</td>\n",
       "      <td>4417.966110</td>\n",
       "      <td>2</td>\n",
       "      <td>0</td>\n",
       "      <td>0</td>\n",
       "      <td>0</td>\n",
       "      <td>0.0</td>\n",
       "    </tr>\n",
       "    <tr>\n",
       "      <th>109734</th>\n",
       "      <td>0</td>\n",
       "      <td>0.674898</td>\n",
       "      <td>59</td>\n",
       "      <td>0</td>\n",
       "      <td>6239.0</td>\n",
       "      <td>8354.024962</td>\n",
       "      <td>12</td>\n",
       "      <td>0</td>\n",
       "      <td>2</td>\n",
       "      <td>0</td>\n",
       "      <td>1.0</td>\n",
       "    </tr>\n",
       "  </tbody>\n",
       "</table>\n",
       "</div>"
      ],
      "text/plain": [
       "        serious_dlqin2yrs  revolving_utilization_of_unsecured_lines  age  \\\n",
       "53786                   0                                  0.031125   70   \n",
       "68885                   0                                  0.034433   66   \n",
       "6236                    0                                  0.000000   43   \n",
       "88594                   0                                  0.016899   51   \n",
       "109734                  0                                  0.674898   59   \n",
       "\n",
       "        number_of_time30-59_days_past_due_not_worse  debt_ratio  \\\n",
       "53786                                             0        61.0   \n",
       "68885                                             0      1243.0   \n",
       "6236                                              1       289.0   \n",
       "88594                                             0        10.0   \n",
       "109734                                            0      6239.0   \n",
       "\n",
       "        monthly_income  number_of_open_credit_lines_and_loans  \\\n",
       "53786      5537.749546                                     11   \n",
       "68885      6261.575154                                      6   \n",
       "6236       5413.329165                                     10   \n",
       "88594      4417.966110                                      2   \n",
       "109734     8354.024962                                     12   \n",
       "\n",
       "        number_of_times90_days_late  number_real_estate_loans_or_lines  \\\n",
       "53786                             0                                  0   \n",
       "68885                             0                                  1   \n",
       "6236                              0                                  0   \n",
       "88594                             0                                  0   \n",
       "109734                            0                                  2   \n",
       "\n",
       "        number_of_time60-89_days_past_due_not_worse  number_of_dependents  \n",
       "53786                                             0                   0.0  \n",
       "68885                                             0                   0.0  \n",
       "6236                                              0                   0.0  \n",
       "88594                                             0                   0.0  \n",
       "109734                                            0                   1.0  "
      ]
     },
     "execution_count": 69,
     "metadata": {},
     "output_type": "execute_result"
    }
   ],
   "source": [
    "n['monthly_income'] = preds\n",
    "n.head()"
   ]
  },
  {
   "cell_type": "markdown",
   "metadata": {},
   "source": [
    "#### Now we combine the entire data i.e. the null and the predicted values"
   ]
  },
  {
   "cell_type": "code",
   "execution_count": 70,
   "metadata": {},
   "outputs": [
    {
     "data": {
      "text/html": [
       "<div>\n",
       "<style scoped>\n",
       "    .dataframe tbody tr th:only-of-type {\n",
       "        vertical-align: middle;\n",
       "    }\n",
       "\n",
       "    .dataframe tbody tr th {\n",
       "        vertical-align: top;\n",
       "    }\n",
       "\n",
       "    .dataframe thead th {\n",
       "        text-align: right;\n",
       "    }\n",
       "</style>\n",
       "<table border=\"1\" class=\"dataframe\">\n",
       "  <thead>\n",
       "    <tr style=\"text-align: right;\">\n",
       "      <th></th>\n",
       "      <th>serious_dlqin2yrs</th>\n",
       "      <th>revolving_utilization_of_unsecured_lines</th>\n",
       "      <th>age</th>\n",
       "      <th>number_of_time30-59_days_past_due_not_worse</th>\n",
       "      <th>debt_ratio</th>\n",
       "      <th>monthly_income</th>\n",
       "      <th>number_of_open_credit_lines_and_loans</th>\n",
       "      <th>number_of_times90_days_late</th>\n",
       "      <th>number_real_estate_loans_or_lines</th>\n",
       "      <th>number_of_time60-89_days_past_due_not_worse</th>\n",
       "      <th>number_of_dependents</th>\n",
       "    </tr>\n",
       "  </thead>\n",
       "  <tbody>\n",
       "    <tr>\n",
       "      <th>54676</th>\n",
       "      <td>0</td>\n",
       "      <td>1.000000</td>\n",
       "      <td>58</td>\n",
       "      <td>0</td>\n",
       "      <td>0.542104</td>\n",
       "      <td>14000.0</td>\n",
       "      <td>9</td>\n",
       "      <td>0</td>\n",
       "      <td>2</td>\n",
       "      <td>0</td>\n",
       "      <td>2.0</td>\n",
       "    </tr>\n",
       "    <tr>\n",
       "      <th>666</th>\n",
       "      <td>0</td>\n",
       "      <td>0.020704</td>\n",
       "      <td>47</td>\n",
       "      <td>0</td>\n",
       "      <td>0.645104</td>\n",
       "      <td>3400.0</td>\n",
       "      <td>6</td>\n",
       "      <td>0</td>\n",
       "      <td>1</td>\n",
       "      <td>0</td>\n",
       "      <td>2.0</td>\n",
       "    </tr>\n",
       "    <tr>\n",
       "      <th>76892</th>\n",
       "      <td>0</td>\n",
       "      <td>1.000000</td>\n",
       "      <td>28</td>\n",
       "      <td>0</td>\n",
       "      <td>0.193903</td>\n",
       "      <td>2000.0</td>\n",
       "      <td>2</td>\n",
       "      <td>0</td>\n",
       "      <td>0</td>\n",
       "      <td>1</td>\n",
       "      <td>0.0</td>\n",
       "    </tr>\n",
       "    <tr>\n",
       "      <th>56402</th>\n",
       "      <td>0</td>\n",
       "      <td>0.062678</td>\n",
       "      <td>33</td>\n",
       "      <td>0</td>\n",
       "      <td>0.009892</td>\n",
       "      <td>3335.0</td>\n",
       "      <td>3</td>\n",
       "      <td>0</td>\n",
       "      <td>0</td>\n",
       "      <td>0</td>\n",
       "      <td>0.0</td>\n",
       "    </tr>\n",
       "    <tr>\n",
       "      <th>102838</th>\n",
       "      <td>1</td>\n",
       "      <td>0.502096</td>\n",
       "      <td>68</td>\n",
       "      <td>0</td>\n",
       "      <td>0.387225</td>\n",
       "      <td>2770.0</td>\n",
       "      <td>10</td>\n",
       "      <td>0</td>\n",
       "      <td>1</td>\n",
       "      <td>0</td>\n",
       "      <td>0.0</td>\n",
       "    </tr>\n",
       "  </tbody>\n",
       "</table>\n",
       "</div>"
      ],
      "text/plain": [
       "        serious_dlqin2yrs  revolving_utilization_of_unsecured_lines  age  \\\n",
       "54676                   0                                  1.000000   58   \n",
       "666                     0                                  0.020704   47   \n",
       "76892                   0                                  1.000000   28   \n",
       "56402                   0                                  0.062678   33   \n",
       "102838                  1                                  0.502096   68   \n",
       "\n",
       "        number_of_time30-59_days_past_due_not_worse  debt_ratio  \\\n",
       "54676                                             0    0.542104   \n",
       "666                                               0    0.645104   \n",
       "76892                                             0    0.193903   \n",
       "56402                                             0    0.009892   \n",
       "102838                                            0    0.387225   \n",
       "\n",
       "        monthly_income  number_of_open_credit_lines_and_loans  \\\n",
       "54676          14000.0                                      9   \n",
       "666             3400.0                                      6   \n",
       "76892           2000.0                                      2   \n",
       "56402           3335.0                                      3   \n",
       "102838          2770.0                                     10   \n",
       "\n",
       "        number_of_times90_days_late  number_real_estate_loans_or_lines  \\\n",
       "54676                             0                                  2   \n",
       "666                               0                                  1   \n",
       "76892                             0                                  0   \n",
       "56402                             0                                  0   \n",
       "102838                            0                                  1   \n",
       "\n",
       "        number_of_time60-89_days_past_due_not_worse  number_of_dependents  \n",
       "54676                                             0                   2.0  \n",
       "666                                               0                   2.0  \n",
       "76892                                             1                   0.0  \n",
       "56402                                             0                   0.0  \n",
       "102838                                            0                   0.0  "
      ]
     },
     "execution_count": 70,
     "metadata": {},
     "output_type": "execute_result"
    }
   ],
   "source": [
    "train_nn = nn.append(n)\n",
    "train_nn.head()"
   ]
  },
  {
   "cell_type": "markdown",
   "metadata": {},
   "source": [
    "#### We perform the same procedure for the test dataset\n",
    "#### 1. Split null and not null\n",
    "#### 2. Perform regression algorithms on not null values\n",
    "#### 3. Predict the values\n",
    "#### 4. Impute the data"
   ]
  },
  {
   "cell_type": "markdown",
   "metadata": {},
   "source": [
    "#### Split into null and not null"
   ]
  },
  {
   "cell_type": "code",
   "execution_count": 71,
   "metadata": {},
   "outputs": [],
   "source": [
    "nulls = test[test['monthly_income'].isnull()]\n",
    "no_nulls = test[test['monthly_income'].notnull()]\n"
   ]
  },
  {
   "cell_type": "markdown",
   "metadata": {},
   "source": [
    "#### Performing regression algorithm here is not necessary since the overall data is the same and the amount of data is small. However, we still perform regression algorithms here. (Lasso)"
   ]
  },
  {
   "cell_type": "code",
   "execution_count": 72,
   "metadata": {},
   "outputs": [
    {
     "data": {
      "text/plain": [
       "Lasso(alpha=0.1, copy_X=True, fit_intercept=True, max_iter=1000,\n",
       "      normalize=False, positive=False, precompute=False, random_state=None,\n",
       "      selection='cyclic', tol=0.0001, warm_start=False)"
      ]
     },
     "execution_count": 72,
     "metadata": {},
     "output_type": "execute_result"
    }
   ],
   "source": [
    "from sklearn import linear_model\n",
    "a = no_nulls[['number_real_estate_loans_or_lines', 'number_of_open_credit_lines_and_loans']]\n",
    "b = no_nulls['monthly_income']\n",
    "cl = linear_model.Lasso(alpha=0.1)\n",
    "reg = cl.fit(a,b)\n",
    "cl.fit(a,b)"
   ]
  },
  {
   "cell_type": "markdown",
   "metadata": {},
   "source": [
    "#### Predicting the null values"
   ]
  },
  {
   "cell_type": "code",
   "execution_count": 73,
   "metadata": {},
   "outputs": [
    {
     "data": {
      "text/plain": [
       "array([6261.57515389, 7505.77897235, 4542.38649168, ..., 5288.90878275,\n",
       "       4791.22725537, 5413.3291646 ])"
      ]
     },
     "execution_count": 73,
     "metadata": {},
     "output_type": "execute_result"
    }
   ],
   "source": [
    "to_predict = nulls.drop(['monthly_income'], axis=1)\n",
    "to_predict = to_predict[['number_real_estate_loans_or_lines', 'number_of_open_credit_lines_and_loans']]\n",
    "preds = reg_mod.predict(to_predict)\n",
    "preds"
   ]
  },
  {
   "cell_type": "markdown",
   "metadata": {},
   "source": [
    "#### Imputing predicted values in null dataset"
   ]
  },
  {
   "cell_type": "code",
   "execution_count": 74,
   "metadata": {},
   "outputs": [
    {
     "name": "stderr",
     "output_type": "stream",
     "text": [
      "C:\\Users\\shrey\\Anaconda3\\lib\\site-packages\\ipykernel_launcher.py:1: SettingWithCopyWarning: \n",
      "A value is trying to be set on a copy of a slice from a DataFrame.\n",
      "Try using .loc[row_indexer,col_indexer] = value instead\n",
      "\n",
      "See the caveats in the documentation: https://pandas.pydata.org/pandas-docs/stable/user_guide/indexing.html#returning-a-view-versus-a-copy\n",
      "  \"\"\"Entry point for launching an IPython kernel.\n"
     ]
    },
    {
     "data": {
      "text/html": [
       "<div>\n",
       "<style scoped>\n",
       "    .dataframe tbody tr th:only-of-type {\n",
       "        vertical-align: middle;\n",
       "    }\n",
       "\n",
       "    .dataframe tbody tr th {\n",
       "        vertical-align: top;\n",
       "    }\n",
       "\n",
       "    .dataframe thead th {\n",
       "        text-align: right;\n",
       "    }\n",
       "</style>\n",
       "<table border=\"1\" class=\"dataframe\">\n",
       "  <thead>\n",
       "    <tr style=\"text-align: right;\">\n",
       "      <th></th>\n",
       "      <th>serious_dlqin2yrs</th>\n",
       "      <th>revolving_utilization_of_unsecured_lines</th>\n",
       "      <th>age</th>\n",
       "      <th>number_of_time30-59_days_past_due_not_worse</th>\n",
       "      <th>debt_ratio</th>\n",
       "      <th>monthly_income</th>\n",
       "      <th>number_of_open_credit_lines_and_loans</th>\n",
       "      <th>number_of_times90_days_late</th>\n",
       "      <th>number_real_estate_loans_or_lines</th>\n",
       "      <th>number_of_time60-89_days_past_due_not_worse</th>\n",
       "      <th>number_of_dependents</th>\n",
       "    </tr>\n",
       "  </thead>\n",
       "  <tbody>\n",
       "    <tr>\n",
       "      <th>6327</th>\n",
       "      <td>0</td>\n",
       "      <td>0.032711</td>\n",
       "      <td>45</td>\n",
       "      <td>0</td>\n",
       "      <td>1632.0</td>\n",
       "      <td>6261.575154</td>\n",
       "      <td>6</td>\n",
       "      <td>0</td>\n",
       "      <td>1</td>\n",
       "      <td>0</td>\n",
       "      <td>0.0</td>\n",
       "    </tr>\n",
       "    <tr>\n",
       "      <th>103843</th>\n",
       "      <td>0</td>\n",
       "      <td>0.055955</td>\n",
       "      <td>80</td>\n",
       "      <td>0</td>\n",
       "      <td>1242.0</td>\n",
       "      <td>7505.778972</td>\n",
       "      <td>16</td>\n",
       "      <td>0</td>\n",
       "      <td>1</td>\n",
       "      <td>0</td>\n",
       "      <td>0.0</td>\n",
       "    </tr>\n",
       "    <tr>\n",
       "      <th>96325</th>\n",
       "      <td>1</td>\n",
       "      <td>0.295409</td>\n",
       "      <td>35</td>\n",
       "      <td>1</td>\n",
       "      <td>433.0</td>\n",
       "      <td>4542.386492</td>\n",
       "      <td>3</td>\n",
       "      <td>0</td>\n",
       "      <td>0</td>\n",
       "      <td>0</td>\n",
       "      <td>0.0</td>\n",
       "    </tr>\n",
       "    <tr>\n",
       "      <th>95041</th>\n",
       "      <td>0</td>\n",
       "      <td>0.040095</td>\n",
       "      <td>59</td>\n",
       "      <td>0</td>\n",
       "      <td>113.0</td>\n",
       "      <td>4791.227255</td>\n",
       "      <td>5</td>\n",
       "      <td>0</td>\n",
       "      <td>0</td>\n",
       "      <td>0</td>\n",
       "      <td>0.0</td>\n",
       "    </tr>\n",
       "    <tr>\n",
       "      <th>1435</th>\n",
       "      <td>0</td>\n",
       "      <td>0.055607</td>\n",
       "      <td>65</td>\n",
       "      <td>0</td>\n",
       "      <td>2965.0</td>\n",
       "      <td>6137.154772</td>\n",
       "      <td>5</td>\n",
       "      <td>0</td>\n",
       "      <td>1</td>\n",
       "      <td>0</td>\n",
       "      <td>1.0</td>\n",
       "    </tr>\n",
       "  </tbody>\n",
       "</table>\n",
       "</div>"
      ],
      "text/plain": [
       "        serious_dlqin2yrs  revolving_utilization_of_unsecured_lines  age  \\\n",
       "6327                    0                                  0.032711   45   \n",
       "103843                  0                                  0.055955   80   \n",
       "96325                   1                                  0.295409   35   \n",
       "95041                   0                                  0.040095   59   \n",
       "1435                    0                                  0.055607   65   \n",
       "\n",
       "        number_of_time30-59_days_past_due_not_worse  debt_ratio  \\\n",
       "6327                                              0      1632.0   \n",
       "103843                                            0      1242.0   \n",
       "96325                                             1       433.0   \n",
       "95041                                             0       113.0   \n",
       "1435                                              0      2965.0   \n",
       "\n",
       "        monthly_income  number_of_open_credit_lines_and_loans  \\\n",
       "6327       6261.575154                                      6   \n",
       "103843     7505.778972                                     16   \n",
       "96325      4542.386492                                      3   \n",
       "95041      4791.227255                                      5   \n",
       "1435       6137.154772                                      5   \n",
       "\n",
       "        number_of_times90_days_late  number_real_estate_loans_or_lines  \\\n",
       "6327                              0                                  1   \n",
       "103843                            0                                  1   \n",
       "96325                             0                                  0   \n",
       "95041                             0                                  0   \n",
       "1435                              0                                  1   \n",
       "\n",
       "        number_of_time60-89_days_past_due_not_worse  number_of_dependents  \n",
       "6327                                              0                   0.0  \n",
       "103843                                            0                   0.0  \n",
       "96325                                             0                   0.0  \n",
       "95041                                             0                   0.0  \n",
       "1435                                              0                   1.0  "
      ]
     },
     "execution_count": 74,
     "metadata": {},
     "output_type": "execute_result"
    }
   ],
   "source": [
    "nulls['monthly_income'] = preds\n",
    "\n",
    "nulls.head()"
   ]
  },
  {
   "cell_type": "markdown",
   "metadata": {},
   "source": [
    "#### combining the not null with the null value dataset"
   ]
  },
  {
   "cell_type": "code",
   "execution_count": 75,
   "metadata": {},
   "outputs": [
    {
     "data": {
      "text/html": [
       "<div>\n",
       "<style scoped>\n",
       "    .dataframe tbody tr th:only-of-type {\n",
       "        vertical-align: middle;\n",
       "    }\n",
       "\n",
       "    .dataframe tbody tr th {\n",
       "        vertical-align: top;\n",
       "    }\n",
       "\n",
       "    .dataframe thead th {\n",
       "        text-align: right;\n",
       "    }\n",
       "</style>\n",
       "<table border=\"1\" class=\"dataframe\">\n",
       "  <thead>\n",
       "    <tr style=\"text-align: right;\">\n",
       "      <th></th>\n",
       "      <th>serious_dlqin2yrs</th>\n",
       "      <th>revolving_utilization_of_unsecured_lines</th>\n",
       "      <th>age</th>\n",
       "      <th>number_of_time30-59_days_past_due_not_worse</th>\n",
       "      <th>debt_ratio</th>\n",
       "      <th>monthly_income</th>\n",
       "      <th>number_of_open_credit_lines_and_loans</th>\n",
       "      <th>number_of_times90_days_late</th>\n",
       "      <th>number_real_estate_loans_or_lines</th>\n",
       "      <th>number_of_time60-89_days_past_due_not_worse</th>\n",
       "      <th>number_of_dependents</th>\n",
       "    </tr>\n",
       "  </thead>\n",
       "  <tbody>\n",
       "    <tr>\n",
       "      <th>120277</th>\n",
       "      <td>0</td>\n",
       "      <td>0.291629</td>\n",
       "      <td>43</td>\n",
       "      <td>0</td>\n",
       "      <td>0.217078</td>\n",
       "      <td>10000.0</td>\n",
       "      <td>6</td>\n",
       "      <td>0</td>\n",
       "      <td>1</td>\n",
       "      <td>0</td>\n",
       "      <td>4.0</td>\n",
       "    </tr>\n",
       "    <tr>\n",
       "      <th>2064</th>\n",
       "      <td>0</td>\n",
       "      <td>0.000292</td>\n",
       "      <td>60</td>\n",
       "      <td>0</td>\n",
       "      <td>0.518684</td>\n",
       "      <td>2916.0</td>\n",
       "      <td>17</td>\n",
       "      <td>0</td>\n",
       "      <td>1</td>\n",
       "      <td>0</td>\n",
       "      <td>0.0</td>\n",
       "    </tr>\n",
       "    <tr>\n",
       "      <th>124416</th>\n",
       "      <td>0</td>\n",
       "      <td>0.195780</td>\n",
       "      <td>28</td>\n",
       "      <td>0</td>\n",
       "      <td>0.026150</td>\n",
       "      <td>2217.0</td>\n",
       "      <td>1</td>\n",
       "      <td>1</td>\n",
       "      <td>0</td>\n",
       "      <td>0</td>\n",
       "      <td>0.0</td>\n",
       "    </tr>\n",
       "    <tr>\n",
       "      <th>80786</th>\n",
       "      <td>0</td>\n",
       "      <td>0.344905</td>\n",
       "      <td>57</td>\n",
       "      <td>0</td>\n",
       "      <td>0.455856</td>\n",
       "      <td>5062.0</td>\n",
       "      <td>10</td>\n",
       "      <td>0</td>\n",
       "      <td>1</td>\n",
       "      <td>0</td>\n",
       "      <td>1.0</td>\n",
       "    </tr>\n",
       "    <tr>\n",
       "      <th>15379</th>\n",
       "      <td>0</td>\n",
       "      <td>0.033462</td>\n",
       "      <td>30</td>\n",
       "      <td>0</td>\n",
       "      <td>0.109856</td>\n",
       "      <td>7700.0</td>\n",
       "      <td>10</td>\n",
       "      <td>0</td>\n",
       "      <td>0</td>\n",
       "      <td>0</td>\n",
       "      <td>0.0</td>\n",
       "    </tr>\n",
       "  </tbody>\n",
       "</table>\n",
       "</div>"
      ],
      "text/plain": [
       "        serious_dlqin2yrs  revolving_utilization_of_unsecured_lines  age  \\\n",
       "120277                  0                                  0.291629   43   \n",
       "2064                    0                                  0.000292   60   \n",
       "124416                  0                                  0.195780   28   \n",
       "80786                   0                                  0.344905   57   \n",
       "15379                   0                                  0.033462   30   \n",
       "\n",
       "        number_of_time30-59_days_past_due_not_worse  debt_ratio  \\\n",
       "120277                                            0    0.217078   \n",
       "2064                                              0    0.518684   \n",
       "124416                                            0    0.026150   \n",
       "80786                                             0    0.455856   \n",
       "15379                                             0    0.109856   \n",
       "\n",
       "        monthly_income  number_of_open_credit_lines_and_loans  \\\n",
       "120277         10000.0                                      6   \n",
       "2064            2916.0                                     17   \n",
       "124416          2217.0                                      1   \n",
       "80786           5062.0                                     10   \n",
       "15379           7700.0                                     10   \n",
       "\n",
       "        number_of_times90_days_late  number_real_estate_loans_or_lines  \\\n",
       "120277                            0                                  1   \n",
       "2064                              0                                  1   \n",
       "124416                            1                                  0   \n",
       "80786                             0                                  1   \n",
       "15379                             0                                  0   \n",
       "\n",
       "        number_of_time60-89_days_past_due_not_worse  number_of_dependents  \n",
       "120277                                            0                   4.0  \n",
       "2064                                              0                   0.0  \n",
       "124416                                            0                   0.0  \n",
       "80786                                             0                   1.0  \n",
       "15379                                             0                   0.0  "
      ]
     },
     "execution_count": 75,
     "metadata": {},
     "output_type": "execute_result"
    }
   ],
   "source": [
    "test_nn = no_nulls.append(nulls)\n",
    "test_nn.head()"
   ]
  },
  {
   "cell_type": "markdown",
   "metadata": {},
   "source": [
    "#### Now we save the datasets separetly as mentioned."
   ]
  },
  {
   "cell_type": "code",
   "execution_count": 76,
   "metadata": {},
   "outputs": [],
   "source": [
    "train_nn.to_csv(r'C:\\Users\\shrey\\OneDrive\\Documents\\Stevens\\SIT Sem 3\\BIA 656\\credit-data-trainingset.csv', index = False)\n",
    "test_nn.to_csv(r'C:\\Users\\shrey\\OneDrive\\Documents\\Stevens\\SIT Sem 3\\BIA 656\\credit-data-testset.csv', index = False)"
   ]
  },
  {
   "cell_type": "markdown",
   "metadata": {},
   "source": [
    "#### Comparing the original and imputed data for training and test dataset"
   ]
  },
  {
   "cell_type": "code",
   "execution_count": 80,
   "metadata": {},
   "outputs": [
    {
     "data": {
      "text/plain": [
       "serious_dlqin2yrs                                  0\n",
       "revolving_utilization_of_unsecured_lines           0\n",
       "age                                                0\n",
       "number_of_time30-59_days_past_due_not_worse        0\n",
       "debt_ratio                                         0\n",
       "monthly_income                                 22292\n",
       "number_of_open_credit_lines_and_loans              0\n",
       "number_of_times90_days_late                        0\n",
       "number_real_estate_loans_or_lines                  0\n",
       "number_of_time60-89_days_past_due_not_worse        0\n",
       "number_of_dependents                               0\n",
       "dtype: int64"
      ]
     },
     "execution_count": 80,
     "metadata": {},
     "output_type": "execute_result"
    }
   ],
   "source": [
    "train.isnull().sum()"
   ]
  },
  {
   "cell_type": "code",
   "execution_count": 78,
   "metadata": {},
   "outputs": [
    {
     "data": {
      "text/plain": [
       "serious_dlqin2yrs                              0\n",
       "revolving_utilization_of_unsecured_lines       0\n",
       "age                                            0\n",
       "number_of_time30-59_days_past_due_not_worse    0\n",
       "debt_ratio                                     0\n",
       "monthly_income                                 0\n",
       "number_of_open_credit_lines_and_loans          0\n",
       "number_of_times90_days_late                    0\n",
       "number_real_estate_loans_or_lines              0\n",
       "number_of_time60-89_days_past_due_not_worse    0\n",
       "number_of_dependents                           0\n",
       "dtype: int64"
      ]
     },
     "execution_count": 78,
     "metadata": {},
     "output_type": "execute_result"
    }
   ],
   "source": [
    "train_nn.isnull().sum()"
   ]
  },
  {
   "cell_type": "code",
   "execution_count": 81,
   "metadata": {},
   "outputs": [
    {
     "data": {
      "text/plain": [
       "serious_dlqin2yrs                                 0\n",
       "revolving_utilization_of_unsecured_lines          0\n",
       "age                                               0\n",
       "number_of_time30-59_days_past_due_not_worse       0\n",
       "debt_ratio                                        0\n",
       "monthly_income                                 7439\n",
       "number_of_open_credit_lines_and_loans             0\n",
       "number_of_times90_days_late                       0\n",
       "number_real_estate_loans_or_lines                 0\n",
       "number_of_time60-89_days_past_due_not_worse       0\n",
       "number_of_dependents                              0\n",
       "dtype: int64"
      ]
     },
     "execution_count": 81,
     "metadata": {},
     "output_type": "execute_result"
    }
   ],
   "source": [
    "test.isnull().sum()"
   ]
  },
  {
   "cell_type": "code",
   "execution_count": 82,
   "metadata": {},
   "outputs": [
    {
     "data": {
      "text/plain": [
       "serious_dlqin2yrs                              0\n",
       "revolving_utilization_of_unsecured_lines       0\n",
       "age                                            0\n",
       "number_of_time30-59_days_past_due_not_worse    0\n",
       "debt_ratio                                     0\n",
       "monthly_income                                 0\n",
       "number_of_open_credit_lines_and_loans          0\n",
       "number_of_times90_days_late                    0\n",
       "number_real_estate_loans_or_lines              0\n",
       "number_of_time60-89_days_past_due_not_worse    0\n",
       "number_of_dependents                           0\n",
       "dtype: int64"
      ]
     },
     "execution_count": 82,
     "metadata": {},
     "output_type": "execute_result"
    }
   ],
   "source": [
    "test_nn.isnull().sum()"
   ]
  },
  {
   "cell_type": "markdown",
   "metadata": {},
   "source": [
    "# Part 2"
   ]
  },
  {
   "cell_type": "markdown",
   "metadata": {},
   "source": [
    "#### Loading the training dataset that we created"
   ]
  },
  {
   "cell_type": "code",
   "execution_count": 83,
   "metadata": {},
   "outputs": [
    {
     "data": {
      "text/html": [
       "<div>\n",
       "<style scoped>\n",
       "    .dataframe tbody tr th:only-of-type {\n",
       "        vertical-align: middle;\n",
       "    }\n",
       "\n",
       "    .dataframe tbody tr th {\n",
       "        vertical-align: top;\n",
       "    }\n",
       "\n",
       "    .dataframe thead th {\n",
       "        text-align: right;\n",
       "    }\n",
       "</style>\n",
       "<table border=\"1\" class=\"dataframe\">\n",
       "  <thead>\n",
       "    <tr style=\"text-align: right;\">\n",
       "      <th></th>\n",
       "      <th>serious_dlqin2yrs</th>\n",
       "      <th>revolving_utilization_of_unsecured_lines</th>\n",
       "      <th>age</th>\n",
       "      <th>number_of_time30-59_days_past_due_not_worse</th>\n",
       "      <th>debt_ratio</th>\n",
       "      <th>monthly_income</th>\n",
       "      <th>number_of_open_credit_lines_and_loans</th>\n",
       "      <th>number_of_times90_days_late</th>\n",
       "      <th>number_real_estate_loans_or_lines</th>\n",
       "      <th>number_of_time60-89_days_past_due_not_worse</th>\n",
       "      <th>number_of_dependents</th>\n",
       "    </tr>\n",
       "  </thead>\n",
       "  <tbody>\n",
       "    <tr>\n",
       "      <th>0</th>\n",
       "      <td>0</td>\n",
       "      <td>1.000000</td>\n",
       "      <td>58</td>\n",
       "      <td>0</td>\n",
       "      <td>0.542104</td>\n",
       "      <td>14000.0</td>\n",
       "      <td>9</td>\n",
       "      <td>0</td>\n",
       "      <td>2</td>\n",
       "      <td>0</td>\n",
       "      <td>2.0</td>\n",
       "    </tr>\n",
       "    <tr>\n",
       "      <th>1</th>\n",
       "      <td>0</td>\n",
       "      <td>0.020704</td>\n",
       "      <td>47</td>\n",
       "      <td>0</td>\n",
       "      <td>0.645104</td>\n",
       "      <td>3400.0</td>\n",
       "      <td>6</td>\n",
       "      <td>0</td>\n",
       "      <td>1</td>\n",
       "      <td>0</td>\n",
       "      <td>2.0</td>\n",
       "    </tr>\n",
       "    <tr>\n",
       "      <th>2</th>\n",
       "      <td>0</td>\n",
       "      <td>1.000000</td>\n",
       "      <td>28</td>\n",
       "      <td>0</td>\n",
       "      <td>0.193903</td>\n",
       "      <td>2000.0</td>\n",
       "      <td>2</td>\n",
       "      <td>0</td>\n",
       "      <td>0</td>\n",
       "      <td>1</td>\n",
       "      <td>0.0</td>\n",
       "    </tr>\n",
       "    <tr>\n",
       "      <th>3</th>\n",
       "      <td>0</td>\n",
       "      <td>0.062678</td>\n",
       "      <td>33</td>\n",
       "      <td>0</td>\n",
       "      <td>0.009892</td>\n",
       "      <td>3335.0</td>\n",
       "      <td>3</td>\n",
       "      <td>0</td>\n",
       "      <td>0</td>\n",
       "      <td>0</td>\n",
       "      <td>0.0</td>\n",
       "    </tr>\n",
       "    <tr>\n",
       "      <th>4</th>\n",
       "      <td>1</td>\n",
       "      <td>0.502096</td>\n",
       "      <td>68</td>\n",
       "      <td>0</td>\n",
       "      <td>0.387225</td>\n",
       "      <td>2770.0</td>\n",
       "      <td>10</td>\n",
       "      <td>0</td>\n",
       "      <td>1</td>\n",
       "      <td>0</td>\n",
       "      <td>0.0</td>\n",
       "    </tr>\n",
       "  </tbody>\n",
       "</table>\n",
       "</div>"
      ],
      "text/plain": [
       "   serious_dlqin2yrs  revolving_utilization_of_unsecured_lines  age  \\\n",
       "0                  0                                  1.000000   58   \n",
       "1                  0                                  0.020704   47   \n",
       "2                  0                                  1.000000   28   \n",
       "3                  0                                  0.062678   33   \n",
       "4                  1                                  0.502096   68   \n",
       "\n",
       "   number_of_time30-59_days_past_due_not_worse  debt_ratio  monthly_income  \\\n",
       "0                                            0    0.542104         14000.0   \n",
       "1                                            0    0.645104          3400.0   \n",
       "2                                            0    0.193903          2000.0   \n",
       "3                                            0    0.009892          3335.0   \n",
       "4                                            0    0.387225          2770.0   \n",
       "\n",
       "   number_of_open_credit_lines_and_loans  number_of_times90_days_late  \\\n",
       "0                                      9                            0   \n",
       "1                                      6                            0   \n",
       "2                                      2                            0   \n",
       "3                                      3                            0   \n",
       "4                                     10                            0   \n",
       "\n",
       "   number_real_estate_loans_or_lines  \\\n",
       "0                                  2   \n",
       "1                                  1   \n",
       "2                                  0   \n",
       "3                                  0   \n",
       "4                                  1   \n",
       "\n",
       "   number_of_time60-89_days_past_due_not_worse  number_of_dependents  \n",
       "0                                            0                   2.0  \n",
       "1                                            0                   2.0  \n",
       "2                                            1                   0.0  \n",
       "3                                            0                   0.0  \n",
       "4                                            0                   0.0  "
      ]
     },
     "execution_count": 83,
     "metadata": {},
     "output_type": "execute_result"
    }
   ],
   "source": [
    "dt = pd.read_csv('credit-data-trainingset.csv')\n",
    "dt.head()"
   ]
  },
  {
   "cell_type": "markdown",
   "metadata": {},
   "source": [
    "#### Loading the test dataset "
   ]
  },
  {
   "cell_type": "code",
   "execution_count": 84,
   "metadata": {},
   "outputs": [
    {
     "data": {
      "text/html": [
       "<div>\n",
       "<style scoped>\n",
       "    .dataframe tbody tr th:only-of-type {\n",
       "        vertical-align: middle;\n",
       "    }\n",
       "\n",
       "    .dataframe tbody tr th {\n",
       "        vertical-align: top;\n",
       "    }\n",
       "\n",
       "    .dataframe thead th {\n",
       "        text-align: right;\n",
       "    }\n",
       "</style>\n",
       "<table border=\"1\" class=\"dataframe\">\n",
       "  <thead>\n",
       "    <tr style=\"text-align: right;\">\n",
       "      <th></th>\n",
       "      <th>serious_dlqin2yrs</th>\n",
       "      <th>revolving_utilization_of_unsecured_lines</th>\n",
       "      <th>age</th>\n",
       "      <th>number_of_time30-59_days_past_due_not_worse</th>\n",
       "      <th>debt_ratio</th>\n",
       "      <th>monthly_income</th>\n",
       "      <th>number_of_open_credit_lines_and_loans</th>\n",
       "      <th>number_of_times90_days_late</th>\n",
       "      <th>number_real_estate_loans_or_lines</th>\n",
       "      <th>number_of_time60-89_days_past_due_not_worse</th>\n",
       "      <th>number_of_dependents</th>\n",
       "    </tr>\n",
       "  </thead>\n",
       "  <tbody>\n",
       "    <tr>\n",
       "      <th>0</th>\n",
       "      <td>0</td>\n",
       "      <td>0.291629</td>\n",
       "      <td>43</td>\n",
       "      <td>0</td>\n",
       "      <td>0.217078</td>\n",
       "      <td>10000.0</td>\n",
       "      <td>6</td>\n",
       "      <td>0</td>\n",
       "      <td>1</td>\n",
       "      <td>0</td>\n",
       "      <td>4.0</td>\n",
       "    </tr>\n",
       "    <tr>\n",
       "      <th>1</th>\n",
       "      <td>0</td>\n",
       "      <td>0.000292</td>\n",
       "      <td>60</td>\n",
       "      <td>0</td>\n",
       "      <td>0.518684</td>\n",
       "      <td>2916.0</td>\n",
       "      <td>17</td>\n",
       "      <td>0</td>\n",
       "      <td>1</td>\n",
       "      <td>0</td>\n",
       "      <td>0.0</td>\n",
       "    </tr>\n",
       "    <tr>\n",
       "      <th>2</th>\n",
       "      <td>0</td>\n",
       "      <td>0.195780</td>\n",
       "      <td>28</td>\n",
       "      <td>0</td>\n",
       "      <td>0.026150</td>\n",
       "      <td>2217.0</td>\n",
       "      <td>1</td>\n",
       "      <td>1</td>\n",
       "      <td>0</td>\n",
       "      <td>0</td>\n",
       "      <td>0.0</td>\n",
       "    </tr>\n",
       "    <tr>\n",
       "      <th>3</th>\n",
       "      <td>0</td>\n",
       "      <td>0.344905</td>\n",
       "      <td>57</td>\n",
       "      <td>0</td>\n",
       "      <td>0.455856</td>\n",
       "      <td>5062.0</td>\n",
       "      <td>10</td>\n",
       "      <td>0</td>\n",
       "      <td>1</td>\n",
       "      <td>0</td>\n",
       "      <td>1.0</td>\n",
       "    </tr>\n",
       "    <tr>\n",
       "      <th>4</th>\n",
       "      <td>0</td>\n",
       "      <td>0.033462</td>\n",
       "      <td>30</td>\n",
       "      <td>0</td>\n",
       "      <td>0.109856</td>\n",
       "      <td>7700.0</td>\n",
       "      <td>10</td>\n",
       "      <td>0</td>\n",
       "      <td>0</td>\n",
       "      <td>0</td>\n",
       "      <td>0.0</td>\n",
       "    </tr>\n",
       "  </tbody>\n",
       "</table>\n",
       "</div>"
      ],
      "text/plain": [
       "   serious_dlqin2yrs  revolving_utilization_of_unsecured_lines  age  \\\n",
       "0                  0                                  0.291629   43   \n",
       "1                  0                                  0.000292   60   \n",
       "2                  0                                  0.195780   28   \n",
       "3                  0                                  0.344905   57   \n",
       "4                  0                                  0.033462   30   \n",
       "\n",
       "   number_of_time30-59_days_past_due_not_worse  debt_ratio  monthly_income  \\\n",
       "0                                            0    0.217078         10000.0   \n",
       "1                                            0    0.518684          2916.0   \n",
       "2                                            0    0.026150          2217.0   \n",
       "3                                            0    0.455856          5062.0   \n",
       "4                                            0    0.109856          7700.0   \n",
       "\n",
       "   number_of_open_credit_lines_and_loans  number_of_times90_days_late  \\\n",
       "0                                      6                            0   \n",
       "1                                     17                            0   \n",
       "2                                      1                            1   \n",
       "3                                     10                            0   \n",
       "4                                     10                            0   \n",
       "\n",
       "   number_real_estate_loans_or_lines  \\\n",
       "0                                  1   \n",
       "1                                  1   \n",
       "2                                  0   \n",
       "3                                  1   \n",
       "4                                  0   \n",
       "\n",
       "   number_of_time60-89_days_past_due_not_worse  number_of_dependents  \n",
       "0                                            0                   4.0  \n",
       "1                                            0                   0.0  \n",
       "2                                            0                   0.0  \n",
       "3                                            0                   1.0  \n",
       "4                                            0                   0.0  "
      ]
     },
     "execution_count": 84,
     "metadata": {},
     "output_type": "execute_result"
    }
   ],
   "source": [
    "dm = pd.read_csv('credit-data-testset.csv')\n",
    "dm.head()"
   ]
  },
  {
   "cell_type": "markdown",
   "metadata": {},
   "source": [
    "#### Here we take the features as f and targets as t"
   ]
  },
  {
   "cell_type": "code",
   "execution_count": 85,
   "metadata": {},
   "outputs": [],
   "source": [
    "f = dt[['revolving_utilization_of_unsecured_lines', 'age', 'number_of_time30-59_days_past_due_not_worse', 'debt_ratio', 'monthly_income', 'number_of_open_credit_lines_and_loans', 'number_of_times90_days_late', 'number_real_estate_loans_or_lines', 'number_of_time60-89_days_past_due_not_worse', 'number_of_dependents']]\n",
    "t = dt['serious_dlqin2yrs']"
   ]
  },
  {
   "cell_type": "markdown",
   "metadata": {},
   "source": [
    "#### Logistic regression (sklearn.linear_model.LogisticRegression) using penalty (regularization) L2"
   ]
  },
  {
   "cell_type": "code",
   "execution_count": 86,
   "metadata": {},
   "outputs": [
    {
     "name": "stderr",
     "output_type": "stream",
     "text": [
      "C:\\Users\\shrey\\Anaconda3\\lib\\site-packages\\sklearn\\linear_model\\logistic.py:432: FutureWarning: Default solver will be changed to 'lbfgs' in 0.22. Specify a solver to silence this warning.\n",
      "  FutureWarning)\n"
     ]
    }
   ],
   "source": [
    "from sklearn.linear_model import LogisticRegression\n",
    "from sklearn.model_selection import cross_val_score\n",
    "\n",
    "f_train = dt.drop(['serious_dlqin2yrs'], axis=1)\n",
    "t_train = dt['serious_dlqin2yrs']\n",
    "clf = LogisticRegression(penalty = 'l2').fit(f, t)\n",
    "\n",
    "f_test = dm.drop(['serious_dlqin2yrs'], axis=1)\n",
    "t_test = dm['serious_dlqin2yrs']\n",
    "lr_pred = clf.predict(f_test)\n"
   ]
  },
  {
   "cell_type": "markdown",
   "metadata": {},
   "source": [
    "#### Performing cross-validation to check the score/accuracy of the algorithm"
   ]
  },
  {
   "cell_type": "code",
   "execution_count": 87,
   "metadata": {},
   "outputs": [
    {
     "name": "stderr",
     "output_type": "stream",
     "text": [
      "C:\\Users\\shrey\\Anaconda3\\lib\\site-packages\\sklearn\\linear_model\\logistic.py:432: FutureWarning: Default solver will be changed to 'lbfgs' in 0.22. Specify a solver to silence this warning.\n",
      "  FutureWarning)\n",
      "C:\\Users\\shrey\\Anaconda3\\lib\\site-packages\\sklearn\\linear_model\\logistic.py:432: FutureWarning: Default solver will be changed to 'lbfgs' in 0.22. Specify a solver to silence this warning.\n",
      "  FutureWarning)\n",
      "C:\\Users\\shrey\\Anaconda3\\lib\\site-packages\\sklearn\\linear_model\\logistic.py:432: FutureWarning: Default solver will be changed to 'lbfgs' in 0.22. Specify a solver to silence this warning.\n",
      "  FutureWarning)\n",
      "C:\\Users\\shrey\\Anaconda3\\lib\\site-packages\\sklearn\\linear_model\\logistic.py:432: FutureWarning: Default solver will be changed to 'lbfgs' in 0.22. Specify a solver to silence this warning.\n",
      "  FutureWarning)\n",
      "C:\\Users\\shrey\\Anaconda3\\lib\\site-packages\\sklearn\\linear_model\\logistic.py:432: FutureWarning: Default solver will be changed to 'lbfgs' in 0.22. Specify a solver to silence this warning.\n",
      "  FutureWarning)\n",
      "C:\\Users\\shrey\\Anaconda3\\lib\\site-packages\\sklearn\\linear_model\\logistic.py:432: FutureWarning: Default solver will be changed to 'lbfgs' in 0.22. Specify a solver to silence this warning.\n",
      "  FutureWarning)\n",
      "C:\\Users\\shrey\\Anaconda3\\lib\\site-packages\\sklearn\\linear_model\\logistic.py:432: FutureWarning: Default solver will be changed to 'lbfgs' in 0.22. Specify a solver to silence this warning.\n",
      "  FutureWarning)\n",
      "C:\\Users\\shrey\\Anaconda3\\lib\\site-packages\\sklearn\\linear_model\\logistic.py:432: FutureWarning: Default solver will be changed to 'lbfgs' in 0.22. Specify a solver to silence this warning.\n",
      "  FutureWarning)\n",
      "C:\\Users\\shrey\\Anaconda3\\lib\\site-packages\\sklearn\\linear_model\\logistic.py:432: FutureWarning: Default solver will be changed to 'lbfgs' in 0.22. Specify a solver to silence this warning.\n",
      "  FutureWarning)\n",
      "C:\\Users\\shrey\\Anaconda3\\lib\\site-packages\\sklearn\\linear_model\\logistic.py:432: FutureWarning: Default solver will be changed to 'lbfgs' in 0.22. Specify a solver to silence this warning.\n",
      "  FutureWarning)\n"
     ]
    },
    {
     "name": "stdout",
     "output_type": "stream",
     "text": [
      "Cross-Validation Accuracy Scores [0.93369478 0.93387254 0.93351702 0.93502222 0.9344     0.93404444\n",
      " 0.93502222 0.93368299 0.93528314 0.93474976]\n",
      "Cross Validated Accuracy: 0.934 +/- 0.001\n"
     ]
    }
   ],
   "source": [
    "log_scores = cross_val_score(clf, f_train, t_train, scoring=\"accuracy\", cv=10)\n",
    "\n",
    "print('Cross-Validation Accuracy Scores', log_scores)\n",
    "\n",
    "log_scores = pd.Series(log_scores)\n",
    "np_log = log_scores.mean()\n",
    "log_scores.min(), log_scores.mean(), log_scores.max()\n",
    "\n",
    "print (\"Cross Validated Accuracy: %0.3f +/- %0.3f\" % (log_scores.mean(), log_scores.std()))"
   ]
  },
  {
   "cell_type": "markdown",
   "metadata": {},
   "source": [
    "#### Any version of decision trees"
   ]
  },
  {
   "cell_type": "code",
   "execution_count": 88,
   "metadata": {},
   "outputs": [],
   "source": [
    "from sklearn.tree import DecisionTreeClassifier\n",
    "dx = DecisionTreeClassifier()\n",
    "dt_fit = dx.fit(f_train, t_train)\n",
    "\n",
    "t_dt_pred = dx.predict(f_test)"
   ]
  },
  {
   "cell_type": "code",
   "execution_count": 89,
   "metadata": {},
   "outputs": [
    {
     "name": "stdout",
     "output_type": "stream",
     "text": [
      "Cross-Validation Accuracy Scores [0.89609812 0.90036441 0.89289841 0.89324444 0.89884444 0.89306667\n",
      " 0.89502222 0.8947462  0.90879189 0.91101431]\n",
      "Cross Validated Accuracy: 0.898 +/- 0.007\n"
     ]
    }
   ],
   "source": [
    "dt_scores = cross_val_score(dt_fit, f_train, t_train, scoring=\"accuracy\", cv=10)\n",
    "\n",
    "print('Cross-Validation Accuracy Scores', dt_scores)\n",
    "\n",
    "dt_scores = pd.Series(dt_scores)\n",
    "dt_scores.min(), dt_scores.mean(), dt_scores.max()\n",
    "\n",
    "print (\"Cross Validated Accuracy: %0.3f +/- %0.3f\" % (dt_scores.mean(), dt_scores.std()))"
   ]
  },
  {
   "cell_type": "markdown",
   "metadata": {},
   "source": [
    "#### SVM using penalty (regularization) L2 "
   ]
  },
  {
   "cell_type": "code",
   "execution_count": 94,
   "metadata": {},
   "outputs": [
    {
     "name": "stderr",
     "output_type": "stream",
     "text": [
      "C:\\Users\\shrey\\Anaconda3\\lib\\site-packages\\sklearn\\svm\\base.py:929: ConvergenceWarning: Liblinear failed to converge, increase the number of iterations.\n",
      "  \"the number of iterations.\", ConvergenceWarning)\n"
     ]
    }
   ],
   "source": [
    "from sklearn.svm import LinearSVC\n",
    "\n",
    "svm_fit = LinearSVC(penalty='l2')\n",
    "svm_mod = svm_fit.fit(f_train, t_train)"
   ]
  },
  {
   "cell_type": "code",
   "execution_count": 95,
   "metadata": {},
   "outputs": [
    {
     "name": "stderr",
     "output_type": "stream",
     "text": [
      "C:\\Users\\shrey\\Anaconda3\\lib\\site-packages\\sklearn\\svm\\base.py:929: ConvergenceWarning: Liblinear failed to converge, increase the number of iterations.\n",
      "  \"the number of iterations.\", ConvergenceWarning)\n",
      "C:\\Users\\shrey\\Anaconda3\\lib\\site-packages\\sklearn\\svm\\base.py:929: ConvergenceWarning: Liblinear failed to converge, increase the number of iterations.\n",
      "  \"the number of iterations.\", ConvergenceWarning)\n",
      "C:\\Users\\shrey\\Anaconda3\\lib\\site-packages\\sklearn\\svm\\base.py:929: ConvergenceWarning: Liblinear failed to converge, increase the number of iterations.\n",
      "  \"the number of iterations.\", ConvergenceWarning)\n",
      "C:\\Users\\shrey\\Anaconda3\\lib\\site-packages\\sklearn\\svm\\base.py:929: ConvergenceWarning: Liblinear failed to converge, increase the number of iterations.\n",
      "  \"the number of iterations.\", ConvergenceWarning)\n"
     ]
    },
    {
     "name": "stdout",
     "output_type": "stream",
     "text": [
      "Cross-Validation Accuracy Scores [0.86858362 0.93378072 0.93413333 0.93484155 0.92661896]\n",
      "Cross Validated Accuracy: 0.920 +/- 0.029\n"
     ]
    },
    {
     "name": "stderr",
     "output_type": "stream",
     "text": [
      "C:\\Users\\shrey\\Anaconda3\\lib\\site-packages\\sklearn\\svm\\base.py:929: ConvergenceWarning: Liblinear failed to converge, increase the number of iterations.\n",
      "  \"the number of iterations.\", ConvergenceWarning)\n"
     ]
    }
   ],
   "source": [
    "svm_scores = cross_val_score(svm_mod, f_train, t_train, scoring=\"accuracy\", cv=5)\n",
    "\n",
    "print('Cross-Validation Accuracy Scores', svm_scores)\n",
    "\n",
    "svm_scores = pd.Series(svm_scores)\n",
    "svm_scores.min(), svm_scores.mean(), svm_scores.max()\n",
    "\n",
    "print (\"Cross Validated Accuracy: %0.3f +/- %0.3f\" % (svm_scores.mean(), svm_scores.std()))"
   ]
  },
  {
   "cell_type": "markdown",
   "metadata": {},
   "source": [
    "#### Adaboost"
   ]
  },
  {
   "cell_type": "code",
   "execution_count": 96,
   "metadata": {},
   "outputs": [],
   "source": [
    "from sklearn.ensemble import AdaBoostClassifier\n",
    "clf_ada = AdaBoostClassifier()\n",
    "adab_fit = clf_ada.fit(f_train, t_train)"
   ]
  },
  {
   "cell_type": "code",
   "execution_count": 97,
   "metadata": {},
   "outputs": [
    {
     "name": "stdout",
     "output_type": "stream",
     "text": [
      "Cross-Validation Accuracy Scores [0.9356473  0.93609173 0.93484444 0.93639717 0.93901951]\n",
      "Cross Validated Accuracy: 0.936 +/- 0.002\n"
     ]
    }
   ],
   "source": [
    "adab_scores = cross_val_score(adab_fit, f_train, t_train, scoring=\"accuracy\", cv=5)\n",
    "print('Cross-Validation Accuracy Scores', adab_scores)\n",
    "adab_scores = pd.Series(adab_scores)\n",
    "adab_scores.min(), adab_scores.mean(), adab_scores.max()\n",
    "\n",
    "print (\"Cross Validated Accuracy: %0.3f +/- %0.3f\" % (adab_scores.mean(), adab_scores.std()))"
   ]
  },
  {
   "cell_type": "markdown",
   "metadata": {},
   "source": [
    "## ROC Curves"
   ]
  },
  {
   "cell_type": "markdown",
   "metadata": {},
   "source": [
    "#### ROC curve for logistic regression"
   ]
  },
  {
   "cell_type": "code",
   "execution_count": 34,
   "metadata": {
    "scrolled": false
   },
   "outputs": [
    {
     "name": "stderr",
     "output_type": "stream",
     "text": [
      "C:\\Users\\shrey\\Anaconda3\\lib\\site-packages\\sklearn\\linear_model\\logistic.py:432: FutureWarning: Default solver will be changed to 'lbfgs' in 0.22. Specify a solver to silence this warning.\n",
      "  FutureWarning)\n",
      "C:\\Users\\shrey\\Anaconda3\\lib\\site-packages\\sklearn\\linear_model\\logistic.py:432: FutureWarning: Default solver will be changed to 'lbfgs' in 0.22. Specify a solver to silence this warning.\n",
      "  FutureWarning)\n",
      "C:\\Users\\shrey\\Anaconda3\\lib\\site-packages\\sklearn\\linear_model\\logistic.py:432: FutureWarning: Default solver will be changed to 'lbfgs' in 0.22. Specify a solver to silence this warning.\n",
      "  FutureWarning)\n",
      "C:\\Users\\shrey\\Anaconda3\\lib\\site-packages\\sklearn\\linear_model\\logistic.py:432: FutureWarning: Default solver will be changed to 'lbfgs' in 0.22. Specify a solver to silence this warning.\n",
      "  FutureWarning)\n",
      "C:\\Users\\shrey\\Anaconda3\\lib\\site-packages\\sklearn\\linear_model\\logistic.py:432: FutureWarning: Default solver will be changed to 'lbfgs' in 0.22. Specify a solver to silence this warning.\n",
      "  FutureWarning)\n"
     ]
    },
    {
     "data": {
      "text/plain": [
       "<matplotlib.legend.Legend at 0x206eff82b00>"
      ]
     },
     "execution_count": 34,
     "metadata": {},
     "output_type": "execute_result"
    },
    {
     "data": {
      "image/png": "[encoded data removed]",
      "text/plain": [
       "<Figure size 432x288 with 1 Axes>"
      ]
     },
     "metadata": {
      "needs_background": "light"
     },
     "output_type": "display_data"
    }
   ],
   "source": [
    "# Get the probability of Y_test records being = 1\n",
    "from sklearn import metrics\n",
    "import numpy as np\n",
    "t_test_probability_1 = clf.predict_proba(f_test)[:, 1]\n",
    "\n",
    "    # Use the metrics.roc_curve function to get the true positive rate (tpr) and false positive rate (fpr)\n",
    "fpr, tpr, thresholds = metrics.roc_curve(t_test, t_test_probability_1)\n",
    "    \n",
    "    # Get the area under the curve (AUC)\n",
    "auc = np.mean(cross_val_score(clf, f_train, t_train, scoring=\"roc_auc\", cv=5))\n",
    "\n",
    "    # Plot the ROC curve\n",
    "\n",
    "plt.plot(fpr, tpr)\n",
    "    \n",
    "plt.xlabel(\"False positive rate (fpr)\")\n",
    "plt.ylabel(\"True positive rate (tpr)\")\n",
    "plt.plot([0,1], [0,1], 'k--', label=\"Logistic Regression\")\n",
    "plt.legend(loc='best')"
   ]
  },
  {
   "cell_type": "markdown",
   "metadata": {},
   "source": [
    "#### Cumulative Curve for Logistic Regression"
   ]
  },
  {
   "cell_type": "code",
   "execution_count": 36,
   "metadata": {
    "scrolled": true
   },
   "outputs": [
    {
     "name": "stderr",
     "output_type": "stream",
     "text": [
      "C:\\Users\\shrey\\Anaconda3\\lib\\site-packages\\sklearn\\linear_model\\logistic.py:432: FutureWarning: Default solver will be changed to 'lbfgs' in 0.22. Specify a solver to silence this warning.\n",
      "  FutureWarning)\n"
     ]
    },
    {
     "data": {
      "image/png": "[encoded data removed]",
      "text/plain": [
       "<Figure size 432x288 with 1 Axes>"
      ]
     },
     "metadata": {
      "needs_background": "light"
     },
     "output_type": "display_data"
    }
   ],
   "source": [
    "def build_cumulative_curve(model, scale=100):\n",
    "     # Fit model\n",
    "    model.fit(f_train, t_train)\n",
    "\n",
    "    # Get the probability of Y_test records being = 1\n",
    "    Y_test_probability_1 = model.predict_proba(f_test)[:, 1]\n",
    "\n",
    "    # Sort these probabilities and the true value in descending order of probability\n",
    "    order = np.argsort(Y_test_probability_1)[::-1]\n",
    "    Y_test_probability_1_sorted = Y_test_probability_1[order]\n",
    "    Y_test_sorted = np.array(t_test)[order]\n",
    "    \n",
    "    x_cumulative = np.arange(len(Y_test_probability_1_sorted)) + 1\n",
    "    y_cumulative = np.cumsum(Y_test_sorted)\n",
    "\n",
    "# Rescale\n",
    "    x_cumulative = np.array(x_cumulative)/float(x_cumulative.max()) * scale\n",
    "    y_cumulative = np.array(y_cumulative)/float(y_cumulative.max()) * scale\n",
    "    \n",
    "    return x_cumulative, y_cumulative\n",
    "\n",
    "def plot_cumulative_curve(models):\n",
    "    # Plot curve for each model\n",
    "    for key in models:\n",
    "        x_cumulative, y_cumulative = build_cumulative_curve(models[key])\n",
    "        plt.plot(x_cumulative, y_cumulative, label=key)\n",
    "    # Plot other details\n",
    "    plt.plot([0,100], [0,100], 'k--', label=\"Random\")\n",
    "    plt.xlabel(\"Percentage of test instances targeted (decreasing score)\")\n",
    "    plt.ylabel(\"Percentage of positives targeted\")\n",
    "    plt.title(\"Cumulative response curve\")\n",
    "    plt.legend()\n",
    "\n",
    "models = {\"Logistic Regression\": LogisticRegression()}\n",
    "plot_cumulative_curve(models)"
   ]
  },
  {
   "cell_type": "markdown",
   "metadata": {},
   "source": [
    "#### Lift Curve for Logistic Regression"
   ]
  },
  {
   "cell_type": "code",
   "execution_count": 37,
   "metadata": {},
   "outputs": [
    {
     "name": "stderr",
     "output_type": "stream",
     "text": [
      "C:\\Users\\shrey\\Anaconda3\\lib\\site-packages\\sklearn\\linear_model\\logistic.py:432: FutureWarning: Default solver will be changed to 'lbfgs' in 0.22. Specify a solver to silence this warning.\n",
      "  FutureWarning)\n"
     ]
    },
    {
     "data": {
      "image/png": "[encoded data removed]",
      "text/plain": [
       "<Figure size 432x288 with 1 Axes>"
      ]
     },
     "metadata": {
      "needs_background": "light"
     },
     "output_type": "display_data"
    }
   ],
   "source": [
    "def plot_lift_curve(models):\n",
    "    # Plot curve for each model\n",
    "    for key in models:\n",
    "        x_cumulative, y_cumulative = build_cumulative_curve(models[key])\n",
    "        plt.plot(x_cumulative, y_cumulative/x_cumulative, label=key)\n",
    "    # Plot other details\n",
    "    plt.plot([0,100], [1,1], 'k--', label=\"Random\")\n",
    "    plt.xlabel(\"Percentage of test instances (decreasing score)\")\n",
    "    plt.ylabel(\"Lift (times)\")\n",
    "    plt.title(\"Lift curve\")\n",
    "    plt.legend()\n",
    "\n",
    "plot_lift_curve(models)"
   ]
  },
  {
   "cell_type": "markdown",
   "metadata": {},
   "source": [
    "#### ROC curve for D Tree"
   ]
  },
  {
   "cell_type": "code",
   "execution_count": 38,
   "metadata": {},
   "outputs": [
    {
     "data": {
      "text/plain": [
       "<matplotlib.legend.Legend at 0x206f011a668>"
      ]
     },
     "execution_count": 38,
     "metadata": {},
     "output_type": "execute_result"
    },
    {
     "data": {
      "image/png": "[encoded data removed]",
      "text/plain": [
       "<Figure size 432x288 with 1 Axes>"
      ]
     },
     "metadata": {
      "needs_background": "light"
     },
     "output_type": "display_data"
    }
   ],
   "source": [
    "# Get the probability of Y_test records being = 1\n",
    "from sklearn import metrics\n",
    "import numpy as np\n",
    "y_test_probability_1 = dt_fit.predict_proba(f_test)[:, 1]\n",
    "\n",
    "    # Use the metrics.roc_curve function to get the true positive rate (tpr) and false positive rate (fpr)\n",
    "fpr, tpr, thresholds = metrics.roc_curve(t_test, y_test_probability_1)\n",
    "    \n",
    "    # Get the area under the curve (AUC)\n",
    "auc = np.mean(cross_val_score(dt_fit, f_train, t_train, scoring=\"roc_auc\", cv=5))\n",
    "\n",
    "    # Plot the ROC curve\n",
    "\n",
    "plt.plot(fpr, tpr)\n",
    "    \n",
    "plt.xlabel(\"False positive rate (fpr)\")\n",
    "plt.ylabel(\"True positive rate (tpr)\")\n",
    "plt.plot([0,1], [0,1], 'k--', label=\"Decision Tree\")\n",
    "plt.legend(loc='best')"
   ]
  },
  {
   "cell_type": "markdown",
   "metadata": {},
   "source": [
    "#### Cumulative curve for D tree"
   ]
  },
  {
   "cell_type": "code",
   "execution_count": 39,
   "metadata": {},
   "outputs": [
    {
     "data": {
      "image/png": "[encoded data removed]",
      "text/plain": [
       "<Figure size 432x288 with 1 Axes>"
      ]
     },
     "metadata": {
      "needs_background": "light"
     },
     "output_type": "display_data"
    }
   ],
   "source": [
    "def build_cumulative_curve(model, scale=100):\n",
    "     # Fit model\n",
    "    model.fit(f_train, t_train)\n",
    "\n",
    "    # Get the probability of Y_test records being = 1\n",
    "    Y_test_probability_1 = model.predict_proba(f_test)[:, 1]\n",
    "\n",
    "    # Sort these probabilities and the true value in descending order of probability\n",
    "    order = np.argsort(Y_test_probability_1)[::-1]\n",
    "    Y_test_probability_1_sorted = Y_test_probability_1[order]\n",
    "    Y_test_sorted = np.array(t_test)[order]\n",
    "    \n",
    "    x_cumulative = np.arange(len(Y_test_probability_1_sorted)) + 1\n",
    "    y_cumulative = np.cumsum(Y_test_sorted)\n",
    "\n",
    "# Rescale\n",
    "    x_cumulative = np.array(x_cumulative)/float(x_cumulative.max()) * scale\n",
    "    y_cumulative = np.array(y_cumulative)/float(y_cumulative.max()) * scale\n",
    "    \n",
    "    return x_cumulative, y_cumulative\n",
    "\n",
    "def plot_cumulative_curve(models):\n",
    "    # Plot curve for each model\n",
    "    for key in models:\n",
    "        x_cumulative, y_cumulative = build_cumulative_curve(models[key])\n",
    "        plt.plot(x_cumulative, y_cumulative, label=key)\n",
    "    # Plot other details\n",
    "    plt.plot([0,100], [0,100], 'k--', label=\"Random\")\n",
    "    plt.xlabel(\"Percentage of test instances targeted (decreasing score)\")\n",
    "    plt.ylabel(\"Percentage of positives targeted\")\n",
    "    plt.title(\"Cumulative response curve\")\n",
    "    plt.legend()\n",
    "\n",
    "models = {\"D Tree\": DecisionTreeClassifier()}\n",
    "plot_cumulative_curve(models)"
   ]
  },
  {
   "cell_type": "markdown",
   "metadata": {},
   "source": [
    "#### Lift Curve for D Tree"
   ]
  },
  {
   "cell_type": "code",
   "execution_count": 40,
   "metadata": {},
   "outputs": [
    {
     "data": {
      "image/png": "[encoded data removed]",
      "text/plain": [
       "<Figure size 432x288 with 1 Axes>"
      ]
     },
     "metadata": {
      "needs_background": "light"
     },
     "output_type": "display_data"
    }
   ],
   "source": [
    "def plot_lift_curve(models):\n",
    "    # Plot curve for each model\n",
    "    for key in models:\n",
    "        x_cumulative, y_cumulative = build_cumulative_curve(models[key])\n",
    "        plt.plot(x_cumulative, y_cumulative/x_cumulative, label=key)\n",
    "    # Plot other details\n",
    "    plt.plot([0,100], [1,1], 'k--', label=\"Random\")\n",
    "    plt.xlabel(\"Percentage of test instances (decreasing score)\")\n",
    "    plt.ylabel(\"Lift (times)\")\n",
    "    plt.title(\"Lift curve\")\n",
    "    plt.legend()\n",
    "\n",
    "plot_lift_curve(models)"
   ]
  },
  {
   "cell_type": "markdown",
   "metadata": {},
   "source": [
    "### ROC curve for Ada Boost"
   ]
  },
  {
   "cell_type": "code",
   "execution_count": 41,
   "metadata": {},
   "outputs": [
    {
     "data": {
      "text/plain": [
       "<matplotlib.legend.Legend at 0x206f001edd8>"
      ]
     },
     "execution_count": 41,
     "metadata": {},
     "output_type": "execute_result"
    },
    {
     "data": {
      "image/png": "[encoded data removed]",
      "text/plain": [
       "<Figure size 432x288 with 1 Axes>"
      ]
     },
     "metadata": {
      "needs_background": "light"
     },
     "output_type": "display_data"
    }
   ],
   "source": [
    "# Get the probability of Y_test records being = 1\n",
    "from sklearn import metrics\n",
    "import numpy as np\n",
    "y_test_probability_1 = adab_fit.predict_proba(f_test)[:, 1]\n",
    "\n",
    "    # Use the metrics.roc_curve function to get the true positive rate (tpr) and false positive rate (fpr)\n",
    "fpr, tpr, thresholds = metrics.roc_curve(t_test, y_test_probability_1)\n",
    "    \n",
    "    # Get the area under the curve (AUC)\n",
    "auc = np.mean(cross_val_score(adab_fit, f_train, t_train, scoring=\"roc_auc\", cv=5))\n",
    "\n",
    "    # Plot the ROC curve\n",
    "\n",
    "plt.plot(fpr, tpr)\n",
    "    \n",
    "plt.xlabel(\"False positive rate (fpr)\")\n",
    "plt.ylabel(\"True positive rate (tpr)\")\n",
    "plt.plot([0,1], [0,1], 'k--', label=\"Ada Boost\")\n",
    "plt.legend(loc='best')"
   ]
  },
  {
   "cell_type": "markdown",
   "metadata": {},
   "source": [
    "### Cumulative Curve for Ada Boost"
   ]
  },
  {
   "cell_type": "code",
   "execution_count": 42,
   "metadata": {},
   "outputs": [
    {
     "data": {
      "image/png": "[encoded data removed]",
      "text/plain": [
       "<Figure size 432x288 with 1 Axes>"
      ]
     },
     "metadata": {
      "needs_background": "light"
     },
     "output_type": "display_data"
    }
   ],
   "source": [
    "def build_cumulative_curve(model, scale=100):\n",
    "     # Fit model\n",
    "    model.fit(f_train, t_train)\n",
    "\n",
    "    # Get the probability of Y_test records being = 1\n",
    "    Y_test_probability_1 = model.predict_proba(f_test)[:, 1]\n",
    "\n",
    "    # Sort these probabilities and the true value in descending order of probability\n",
    "    order = np.argsort(Y_test_probability_1)[::-1]\n",
    "    Y_test_probability_1_sorted = Y_test_probability_1[order]\n",
    "    Y_test_sorted = np.array(t_test)[order]\n",
    "    \n",
    "    x_cumulative = np.arange(len(Y_test_probability_1_sorted)) + 1\n",
    "    y_cumulative = np.cumsum(Y_test_sorted)\n",
    "\n",
    "# Rescale\n",
    "    x_cumulative = np.array(x_cumulative)/float(x_cumulative.max()) * scale\n",
    "    y_cumulative = np.array(y_cumulative)/float(y_cumulative.max()) * scale\n",
    "    \n",
    "    return x_cumulative, y_cumulative\n",
    "\n",
    "def plot_cumulative_curve(models):\n",
    "    # Plot curve for each model\n",
    "    for key in models:\n",
    "        x_cumulative, y_cumulative = build_cumulative_curve(models[key])\n",
    "        plt.plot(x_cumulative, y_cumulative, label=key)\n",
    "    # Plot other details\n",
    "    plt.plot([0,100], [0,100], 'k--', label=\"Random\")\n",
    "    plt.xlabel(\"Percentage of test instances targeted (decreasing score)\")\n",
    "    plt.ylabel(\"Percentage of positives targeted\")\n",
    "    plt.title(\"Cumulative response curve\")\n",
    "    plt.legend()\n",
    "\n",
    "models = {\"Ada Boost\": AdaBoostClassifier()}\n",
    "plot_cumulative_curve(models)"
   ]
  },
  {
   "cell_type": "markdown",
   "metadata": {},
   "source": [
    "### Lift Curve for Ada Boost"
   ]
  },
  {
   "cell_type": "code",
   "execution_count": 43,
   "metadata": {},
   "outputs": [
    {
     "data": {
      "image/png": "[encoded data removed]",
      "text/plain": [
       "<Figure size 432x288 with 1 Axes>"
      ]
     },
     "metadata": {
      "needs_background": "light"
     },
     "output_type": "display_data"
    }
   ],
   "source": [
    "def plot_lift_curve(models):\n",
    "    # Plot curve for each model\n",
    "    for key in models:\n",
    "        x_cumulative, y_cumulative = build_cumulative_curve(models[key])\n",
    "        plt.plot(x_cumulative, y_cumulative/x_cumulative, label=key)\n",
    "    # Plot other details\n",
    "    plt.plot([0,100], [1,1], 'k--', label=\"Random\")\n",
    "    plt.xlabel(\"Percentage of test instances (decreasing score)\")\n",
    "    plt.ylabel(\"Lift (times)\")\n",
    "    plt.title(\"Lift curve\")\n",
    "    plt.legend()\n",
    "\n",
    "plot_lift_curve(models)"
   ]
  },
  {
   "cell_type": "markdown",
   "metadata": {},
   "source": [
    "### ROC Curves for SVM Classifier\n",
    "\n",
    "#### Since LinearSVM does not have predict_proba() function, and SVM function is very time consuming, we utilize CalibratedClassifierCV which allows the use of predict_proba() function. \n"
   ]
  },
  {
   "cell_type": "code",
   "execution_count": 45,
   "metadata": {},
   "outputs": [
    {
     "name": "stderr",
     "output_type": "stream",
     "text": [
      "C:\\Users\\shrey\\Anaconda3\\lib\\site-packages\\sklearn\\model_selection\\_split.py:1978: FutureWarning: The default value of cv will change from 3 to 5 in version 0.22. Specify it explicitly to silence this warning.\n",
      "  warnings.warn(CV_WARNING, FutureWarning)\n",
      "C:\\Users\\shrey\\Anaconda3\\lib\\site-packages\\sklearn\\svm\\base.py:929: ConvergenceWarning: Liblinear failed to converge, increase the number of iterations.\n",
      "  \"the number of iterations.\", ConvergenceWarning)\n",
      "C:\\Users\\shrey\\Anaconda3\\lib\\site-packages\\sklearn\\svm\\base.py:929: ConvergenceWarning: Liblinear failed to converge, increase the number of iterations.\n",
      "  \"the number of iterations.\", ConvergenceWarning)\n",
      "C:\\Users\\shrey\\Anaconda3\\lib\\site-packages\\sklearn\\svm\\base.py:929: ConvergenceWarning: Liblinear failed to converge, increase the number of iterations.\n",
      "  \"the number of iterations.\", ConvergenceWarning)\n"
     ]
    },
    {
     "data": {
      "text/plain": [
       "<matplotlib.legend.Legend at 0x206f01eea58>"
      ]
     },
     "execution_count": 45,
     "metadata": {},
     "output_type": "execute_result"
    },
    {
     "data": {
      "image/png": "[encoded data removed]",
      "text/plain": [
       "<Figure size 432x288 with 1 Axes>"
      ]
     },
     "metadata": {
      "needs_background": "light"
     },
     "output_type": "display_data"
    }
   ],
   "source": [
    "from sklearn.calibration import CalibratedClassifierCV\n",
    "\n",
    "clf_svm = CalibratedClassifierCV(svm_mod) \n",
    "clf_svm = clf_svm.fit(f_train, t_train)\n",
    "# Get the probability of Y_test records being = 1\n",
    "Y_test_probability_1 = clf_svm.predict_proba(f_test)[:, 1]\n",
    "\n",
    "# Use the metrics.roc_curve function to get the true positive rate (tpr) and false positive rate (fpr)\n",
    "fpr, tpr, thresholds = metrics.roc_curve(t_test, Y_test_probability_1)\n",
    "    \n",
    "# Get the area under the curve (AUC)\n",
    "auc = svm_scores.mean()\n",
    "\n",
    "# Plot the ROC curve\n",
    "plt.plot(fpr, tpr, label=\"AUC \" + str(round(auc, 2)))\n",
    "plt.xlabel(\"False positive rate (fpr)\")\n",
    "plt.ylabel(\"True positive rate (tpr)\")\n",
    "plt.plot([0,1], [0,1], 'k--', label=\"Random\")\n",
    "plt.legend(loc='best')"
   ]
  },
  {
   "cell_type": "markdown",
   "metadata": {},
   "source": [
    "### Cumulative Curve for SVM"
   ]
  },
  {
   "cell_type": "code",
   "execution_count": 48,
   "metadata": {},
   "outputs": [
    {
     "name": "stderr",
     "output_type": "stream",
     "text": [
      "C:\\Users\\shrey\\Anaconda3\\lib\\site-packages\\sklearn\\model_selection\\_split.py:1978: FutureWarning: The default value of cv will change from 3 to 5 in version 0.22. Specify it explicitly to silence this warning.\n",
      "  warnings.warn(CV_WARNING, FutureWarning)\n",
      "C:\\Users\\shrey\\Anaconda3\\lib\\site-packages\\sklearn\\svm\\base.py:929: ConvergenceWarning: Liblinear failed to converge, increase the number of iterations.\n",
      "  \"the number of iterations.\", ConvergenceWarning)\n",
      "C:\\Users\\shrey\\Anaconda3\\lib\\site-packages\\sklearn\\svm\\base.py:929: ConvergenceWarning: Liblinear failed to converge, increase the number of iterations.\n",
      "  \"the number of iterations.\", ConvergenceWarning)\n",
      "C:\\Users\\shrey\\Anaconda3\\lib\\site-packages\\sklearn\\svm\\base.py:929: ConvergenceWarning: Liblinear failed to converge, increase the number of iterations.\n",
      "  \"the number of iterations.\", ConvergenceWarning)\n"
     ]
    },
    {
     "data": {
      "image/png": "[encoded data removed]",
      "text/plain": [
       "<Figure size 432x288 with 1 Axes>"
      ]
     },
     "metadata": {
      "needs_background": "light"
     },
     "output_type": "display_data"
    }
   ],
   "source": [
    "def build_cumulative_curve(model, scale=100):\n",
    "     # Fit model\n",
    "    model.fit(f_train, t_train)\n",
    "\n",
    "    # Get the probability of Y_test records being = 1\n",
    "    Y_test_probability_1 = model.predict_proba(f_test)[:, 1]\n",
    "\n",
    "    # Sort these probabilities and the true value in descending order of probability\n",
    "    order = np.argsort(Y_test_probability_1)[::-1]\n",
    "    Y_test_probability_1_sorted = Y_test_probability_1[order]\n",
    "    Y_test_sorted = np.array(t_test)[order]\n",
    "    \n",
    "    x_cumulative = np.arange(len(Y_test_probability_1_sorted)) + 1\n",
    "    y_cumulative = np.cumsum(Y_test_sorted)\n",
    "\n",
    "# Rescale\n",
    "    x_cumulative = np.array(x_cumulative)/float(x_cumulative.max()) * scale\n",
    "    y_cumulative = np.array(y_cumulative)/float(y_cumulative.max()) * scale\n",
    "    \n",
    "    return x_cumulative, y_cumulative\n",
    "\n",
    "def plot_cumulative_curve(models):\n",
    "    # Plot curve for each model\n",
    "    for key in models:\n",
    "        x_cumulative, y_cumulative = build_cumulative_curve(models[key])\n",
    "        plt.plot(x_cumulative, y_cumulative, label=key)\n",
    "    # Plot other details\n",
    "    plt.plot([0,100], [0,100], 'k--', label=\"Random\")\n",
    "    plt.xlabel(\"Percentage of test instances targeted (decreasing score)\")\n",
    "    plt.ylabel(\"Percentage of positives targeted\")\n",
    "    plt.title(\"Cumulative response curve\")\n",
    "    plt.legend()\n",
    "\n",
    "models = {\"SVM\": CalibratedClassifierCV()}\n",
    "plot_cumulative_curve(models)"
   ]
  },
  {
   "cell_type": "markdown",
   "metadata": {},
   "source": [
    "### Lift Curve for SVM"
   ]
  },
  {
   "cell_type": "code",
   "execution_count": 49,
   "metadata": {},
   "outputs": [
    {
     "name": "stderr",
     "output_type": "stream",
     "text": [
      "C:\\Users\\shrey\\Anaconda3\\lib\\site-packages\\sklearn\\model_selection\\_split.py:1978: FutureWarning: The default value of cv will change from 3 to 5 in version 0.22. Specify it explicitly to silence this warning.\n",
      "  warnings.warn(CV_WARNING, FutureWarning)\n",
      "C:\\Users\\shrey\\Anaconda3\\lib\\site-packages\\sklearn\\svm\\base.py:929: ConvergenceWarning: Liblinear failed to converge, increase the number of iterations.\n",
      "  \"the number of iterations.\", ConvergenceWarning)\n",
      "C:\\Users\\shrey\\Anaconda3\\lib\\site-packages\\sklearn\\svm\\base.py:929: ConvergenceWarning: Liblinear failed to converge, increase the number of iterations.\n",
      "  \"the number of iterations.\", ConvergenceWarning)\n",
      "C:\\Users\\shrey\\Anaconda3\\lib\\site-packages\\sklearn\\svm\\base.py:929: ConvergenceWarning: Liblinear failed to converge, increase the number of iterations.\n",
      "  \"the number of iterations.\", ConvergenceWarning)\n"
     ]
    },
    {
     "data": {
      "image/png": "[encoded data removed]",
      "text/plain": [
       "<Figure size 432x288 with 1 Axes>"
      ]
     },
     "metadata": {
      "needs_background": "light"
     },
     "output_type": "display_data"
    }
   ],
   "source": [
    "def plot_lift_curve(models):\n",
    "    # Plot curve for each model\n",
    "    for key in models:\n",
    "        x_cumulative, y_cumulative = build_cumulative_curve(models[key])\n",
    "        plt.plot(x_cumulative, y_cumulative/x_cumulative, label=key)\n",
    "    # Plot other details\n",
    "    plt.plot([0,100], [1,1], 'k--', label=\"Random\")\n",
    "    plt.xlabel(\"Percentage of test instances (decreasing score)\")\n",
    "    plt.ylabel(\"Lift (times)\")\n",
    "    plt.title(\"Lift curve\")\n",
    "    plt.legend()\n",
    "\n",
    "plot_lift_curve(models)"
   ]
  },
  {
   "cell_type": "markdown",
   "metadata": {},
   "source": [
    "## Grid Search"
   ]
  },
  {
   "cell_type": "code",
   "execution_count": 33,
   "metadata": {},
   "outputs": [
    {
     "name": "stderr",
     "output_type": "stream",
     "text": [
      "C:\\Users\\shrey\\Anaconda3\\lib\\site-packages\\sklearn\\model_selection\\_split.py:1978: FutureWarning: The default value of cv will change from 3 to 5 in version 0.22. Specify it explicitly to silence this warning.\n",
      "  warnings.warn(CV_WARNING, FutureWarning)\n"
     ]
    },
    {
     "name": "stdout",
     "output_type": "stream",
     "text": [
      "AdaBoostClassifier(algorithm='SAMME.R',\n",
      "                   base_estimator=DecisionTreeClassifier(class_weight=None,\n",
      "                                                         criterion='gini',\n",
      "                                                         max_depth=1,\n",
      "                                                         max_features=10,\n",
      "                                                         max_leaf_nodes=None,\n",
      "                                                         min_impurity_decrease=0.0,\n",
      "                                                         min_impurity_split=None,\n",
      "                                                         min_samples_leaf=1,\n",
      "                                                         min_samples_split=2,\n",
      "                                                         min_weight_fraction_leaf=0.0,\n",
      "                                                         presort=False,\n",
      "                                                         random_state=None,\n",
      "                                                         splitter='best'),\n",
      "                   learning_rate=1.0, n_estimators=50, random_state=None)\n"
     ]
    }
   ],
   "source": [
    "from sklearn.model_selection import GridSearchCV\n",
    "from sklearn.tree import DecisionTreeClassifier\n",
    "\n",
    "p ={'base_estimator__max_depth':[1,100],\n",
    "    'base_estimator':[DecisionTreeClassifier(max_features=2),\n",
    "                      DecisionTreeClassifier(max_features= 10)]}\n",
    "gridS=GridSearchCV(AdaBoostClassifier(base_estimator=DecisionTreeClassifier()),p)\n",
    "\n",
    "#To provide the data and to fit the model\n",
    "gridS.fit(f_train, t_train)\n",
    "print(gridS.best_estimator_)"
   ]
  },
  {
   "cell_type": "markdown",
   "metadata": {},
   "source": [
    "### Now since our best model was AdaBoost, we train and test the model using the training dataset and test dataset respectively"
   ]
  },
  {
   "cell_type": "markdown",
   "metadata": {},
   "source": [
    "### Training AdaBoost Model on the train dataset we saved earlier"
   ]
  },
  {
   "cell_type": "code",
   "execution_count": 58,
   "metadata": {},
   "outputs": [],
   "source": [
    "from sklearn.ensemble import AdaBoostClassifier\n",
    "clf_ada = AdaBoostClassifier(algorithm='SAMME.R',\n",
    "                   base_estimator=DecisionTreeClassifier(class_weight=None,\n",
    "                                                         criterion='gini',\n",
    "                                                         max_depth=1,\n",
    "                                                         max_features=2,\n",
    "                                                         max_leaf_nodes=None,\n",
    "                                                         min_impurity_decrease=0.0,\n",
    "                                                         min_impurity_split=None,\n",
    "                                                         min_samples_leaf=1,\n",
    "                                                         min_samples_split=2,\n",
    "                                                         min_weight_fraction_leaf=0.0,\n",
    "                                                         presort=False,\n",
    "                                                         random_state=None,\n",
    "                                                         splitter='best'),\n",
    "                   learning_rate=1.0, n_estimators=50, random_state=None)\n",
    "adab_fit = clf_ada.fit(f_train, t_train)"
   ]
  },
  {
   "cell_type": "code",
   "execution_count": 59,
   "metadata": {},
   "outputs": [
    {
     "name": "stdout",
     "output_type": "stream",
     "text": [
      "Cross-Validation Accuracy Scores [0.93618345 0.93627233 0.93440583 0.93627233 0.93511111 0.93724444\n",
      " 0.93510534 0.93332741 0.93590541 0.93786114]\n",
      "Cross Validated Accuracy: 0.936 +/- 0.001\n"
     ]
    }
   ],
   "source": [
    "adab_scores = cross_val_score(adab_fit, f_train, t_train, scoring=\"accuracy\", cv=10)\n",
    "\n",
    "print('Cross-Validation Accuracy Scores', adab_scores)\n",
    "\n",
    "adab_scores = pd.Series(adab_scores)\n",
    "adab_scores.min(), adab_scores.mean(), adab_scores.max()\n",
    "\n",
    "print (\"Cross Validated Accuracy: %0.3f +/- %0.3f\" % (adab_scores.mean(), adab_scores.std()))"
   ]
  },
  {
   "cell_type": "markdown",
   "metadata": {},
   "source": [
    "### Testing the data with the best parameters"
   ]
  },
  {
   "cell_type": "code",
   "execution_count": 61,
   "metadata": {},
   "outputs": [
    {
     "name": "stdout",
     "output_type": "stream",
     "text": [
      " Accuracy(in %) :  93.624\n"
     ]
    }
   ],
   "source": [
    "from sklearn.metrics import accuracy_score\n",
    "#predicting with test data\n",
    "t_pred = adab_fit.predict(f_test)\n",
    "t_test = dm['serious_dlqin2yrs']\n",
    "\n",
    "#accuracy score \n",
    "print (\" Accuracy(in %) : \" , accuracy_score(t_test, t_pred)*100)"
   ]
  }
 ],
 "metadata": {
  "kernelspec": {
   "display_name": "Python 3",
   "language": "python",
   "name": "python3"
  },
  "language_info": {
   "codemirror_mode": {
    "name": "ipython",
    "version": 3
   },
   "file_extension": ".py",
   "mimetype": "text/x-python",
   "name": "python",
   "nbconvert_exporter": "python",
   "pygments_lexer": "ipython3",
   "version": "3.7.3"
  }
 },
 "nbformat": 4,
 "nbformat_minor": 2
}
